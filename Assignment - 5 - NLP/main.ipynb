{
 "cells": [
  {
   "attachments": {},
   "cell_type": "markdown",
   "metadata": {},
   "source": [
    "# Assignment 5 - NLP"
   ]
  },
  {
   "cell_type": "markdown",
   "metadata": {},
   "source": [
    "## Student Details"
   ]
  },
  {
   "cell_type": "markdown",
   "metadata": {},
   "source": [
    "**`Name`** Montgomery Gole, Viral Bankimbhai Thakar\n",
    "\n",
    "**`Email`** mgole@torontomu.ca, vthakar@torontomu.ca\n",
    "\n",
    "**`Student ID`** 501156495, 501213983"
   ]
  },
  {
   "cell_type": "code",
   "execution_count": 1,
   "metadata": {},
   "outputs": [],
   "source": [
    "%load_ext autoreload\n",
    "%autoreload 2"
   ]
  },
  {
   "cell_type": "code",
   "execution_count": 2,
   "metadata": {},
   "outputs": [],
   "source": [
    "import nltk\n",
    "import string\n",
    "import numpy as np\n",
    "import matplotlib.pyplot as plt\n",
    "from nltk.corpus import stopwords\n",
    "from nltk.tokenize import word_tokenize"
   ]
  },
  {
   "attachments": {},
   "cell_type": "markdown",
   "metadata": {},
   "source": [
    "## PART 1: Natural Language Processing- Finding Text Similarities"
   ]
  },
  {
   "attachments": {},
   "cell_type": "markdown",
   "metadata": {},
   "source": [
    "This part is about finding similarities in text and document. **By considering following sentences\n",
    "and using any similarity or a clustering methods ( e.g., k-Means or hierarchical clustering) show\n",
    "the more similar sentences.** \n",
    "\n",
    "Use at least three methods from TF, TF-IDF, bag of the words, Word2Vec or shingling techniques, and consequently, use a proper distance measure (e.g. Jaccard, Cosine, Edit and Hamming distance) cluster following data and show the similarity between them. \n",
    "\n",
    "Note that if you want to create your own distance measure, you should prove it is a valid distance measure. Here are the sentences"
   ]
  },
  {
   "cell_type": "code",
   "execution_count": 3,
   "metadata": {},
   "outputs": [],
   "source": [
    "data_dict = {\n",
    "    \"id\": [1, 2, 3, 4, 5, 6],\n",
    "    \"text\": [\n",
    "        \"In the past John liked only sport but now he likes sport and politics\",\n",
    "        \"Sam only liked politics but now he is fan of both music and politics\",\n",
    "        \"Sara likes both books and politics but in the past she only read books\",\n",
    "        \"Robert loved both books and nature but now he only reads books\",\n",
    "        \"Linda liked books and sport but she only likes sport now\",\n",
    "        \"Alison used to loved nature but currently she likes both nature and sport\"\n",
    "    ]\n",
    "}"
   ]
  },
  {
   "attachments": {},
   "cell_type": "markdown",
   "metadata": {},
   "source": [
    "As a first step before we begin any preprocessing of the data, we need to apply some preprocessing to our test data. \n",
    "- Convert text to lower case.\n",
    "- Remove punctuation.\n",
    "- Tokenize text."
   ]
  },
  {
   "cell_type": "code",
   "execution_count": 4,
   "metadata": {},
   "outputs": [
    {
     "data": {
      "text/plain": [
       "{'id': [1, 2, 3, 4, 5, 6],\n",
       " 'text': ['past john liked sport likes sport politics',\n",
       "  'sam liked politics fan music politics',\n",
       "  'sara likes books politics past read books',\n",
       "  'robert loved books nature reads books',\n",
       "  'linda liked books sport likes sport',\n",
       "  'alison used loved nature currently likes nature sport']}"
      ]
     },
     "execution_count": 4,
     "metadata": {},
     "output_type": "execute_result"
    }
   ],
   "source": [
    "# Define a function to preprocess the text\n",
    "def preprocess_text(text):\n",
    "    text = text.lower()\n",
    "    text = text.translate(str.maketrans('', '', string.punctuation))\n",
    "    tokens = word_tokenize(text)\n",
    "    stop_words = set(stopwords.words('english'))\n",
    "    tokens = [token for token in tokens if not token in stop_words]\n",
    "    text = ' '.join(tokens)\n",
    "    return text\n",
    "\n",
    "# Preprocess the text in the data_dict\n",
    "data_dict['text'] = [preprocess_text(text) for text in data_dict['text']]\n",
    "data_dict"
   ]
  },
  {
   "attachments": {},
   "cell_type": "markdown",
   "metadata": {},
   "source": [
    "### Bag of Words with Cosine Distance"
   ]
  },
  {
   "cell_type": "code",
   "execution_count": 5,
   "metadata": {},
   "outputs": [
    {
     "name": "stdout",
     "output_type": "stream",
     "text": [
      "[[1.         0.35355339 0.33333333 0.         0.70710678 0.31622777]\n",
      " [0.35355339 1.         0.23570226 0.         0.125      0.        ]\n",
      " [0.33333333 0.23570226 1.         0.47140452 0.35355339 0.10540926]\n",
      " [0.         0.         0.47140452 1.         0.25       0.3354102 ]\n",
      " [0.70710678 0.125      0.35355339 0.25       1.         0.3354102 ]\n",
      " [0.31622777 0.         0.10540926 0.3354102  0.3354102  1.        ]]\n"
     ]
    }
   ],
   "source": [
    "from sklearn.feature_extraction.text import CountVectorizer\n",
    "from sklearn.metrics.pairwise import cosine_similarity\n",
    "\n",
    "# Create a bag of words matrix\n",
    "vectorizer = CountVectorizer()\n",
    "bow_matrix = vectorizer.fit_transform(data_dict['text'])\n",
    "\n",
    "# Calculate pairwise cosine similarity between the sentences\n",
    "cosine_sim = cosine_similarity(bow_matrix)\n",
    "\n",
    "# Print the similarity matrix\n",
    "print(cosine_sim)"
   ]
  },
  {
   "cell_type": "code",
   "execution_count": 6,
   "metadata": {},
   "outputs": [
    {
     "name": "stdout",
     "output_type": "stream",
     "text": [
      "Top 5 similar sentence pairs:\n",
      "Sentence 1: past john liked sport likes sport politics\n",
      "Sentence 5: linda liked books sport likes sport\n",
      "Similarity score: 0.7071067811865475\n",
      "\n",
      "Sentence 3: sara likes books politics past read books\n",
      "Sentence 4: robert loved books nature reads books\n",
      "Similarity score: 0.4714045207910316\n",
      "\n",
      "Sentence 1: past john liked sport likes sport politics\n",
      "Sentence 2: sam liked politics fan music politics\n",
      "Similarity score: 0.35355339059327373\n",
      "\n",
      "Sentence 3: sara likes books politics past read books\n",
      "Sentence 5: linda liked books sport likes sport\n",
      "Similarity score: 0.35355339059327373\n",
      "\n",
      "Sentence 4: robert loved books nature reads books\n",
      "Sentence 6: alison used loved nature currently likes nature sport\n",
      "Similarity score: 0.33541019662496846\n",
      "\n"
     ]
    }
   ],
   "source": [
    "def print_top_similar_pairs(data_dict, similarity_matrix, n=5):\n",
    "    # Get the number of sentences\n",
    "    num_sentences = len(data_dict['text'])\n",
    "    # Initialize a list to store the pairs of similar sentences\n",
    "    similar_pairs = []\n",
    "    # Loop over all possible pairs of sentences\n",
    "    for i in range(num_sentences):\n",
    "        for j in range(i + 1, num_sentences):\n",
    "            # Get the similarity score for the pair of sentences\n",
    "            similarity_score = similarity_matrix[i, j]\n",
    "            # Add the pair of sentences and the similarity score to the list\n",
    "            similar_pairs.append((i, j, similarity_score))\n",
    "    # Sort the list in descending order by similarity score\n",
    "    similar_pairs = sorted(similar_pairs, key=lambda x: x[2], reverse=True)\n",
    "    # Print the top five similar pairs\n",
    "    print(\"Top 5 similar sentence pairs:\")\n",
    "    for pair in similar_pairs[:n]:\n",
    "        print(f\"Sentence {pair[0] + 1}: {data_dict['text'][pair[0]]}\")\n",
    "        print(f\"Sentence {pair[1] + 1}: {data_dict['text'][pair[1]]}\")\n",
    "        print(f\"Similarity score: {pair[2]}\")\n",
    "        print()\n",
    "\n",
    "\n",
    "print_top_similar_pairs(data_dict, cosine_sim, 5)"
   ]
  },
  {
   "attachments": {},
   "cell_type": "markdown",
   "metadata": {},
   "source": [
    "### TF-IDF with Cosine Distance:"
   ]
  },
  {
   "attachments": {},
   "cell_type": "markdown",
   "metadata": {},
   "source": [
    "Using TF-IDF method, we can represent each sentence as a vector of TF-IDF scores. We can then calculate the cosine similarity between each pair of vectors to find the similarity between sentences. Here's the code:"
   ]
  },
  {
   "cell_type": "code",
   "execution_count": 7,
   "metadata": {},
   "outputs": [
    {
     "name": "stdout",
     "output_type": "stream",
     "text": [
      "[[1.         0.27961795 0.29175285 0.         0.60384727 0.22074055]\n",
      " [0.27961795 1.         0.17723303 0.         0.10034482 0.        ]\n",
      " [0.29175285 0.17723303 1.         0.35896596 0.27375705 0.05636227]\n",
      " [0.         0.         0.35896596 1.         0.20323737 0.32788468]\n",
      " [0.60384727 0.10034482 0.27375705 0.20323737 1.         0.23764752]\n",
      " [0.22074055 0.         0.05636227 0.32788468 0.23764752 1.        ]]\n"
     ]
    }
   ],
   "source": [
    "from sklearn.feature_extraction.text import TfidfVectorizer\n",
    "\n",
    "# Create a TF-IDF matrix\n",
    "vectorizer = TfidfVectorizer()\n",
    "tfidf_matrix = vectorizer.fit_transform(data_dict['text'])\n",
    "\n",
    "# Calculate pairwise cosine similarity between the sentences\n",
    "cosine_sim = cosine_similarity(tfidf_matrix)\n",
    "\n",
    "# Print the similarity matrix\n",
    "print(cosine_sim)"
   ]
  },
  {
   "cell_type": "code",
   "execution_count": 8,
   "metadata": {},
   "outputs": [
    {
     "name": "stdout",
     "output_type": "stream",
     "text": [
      "Top 5 similar sentence pairs:\n",
      "Sentence 1: past john liked sport likes sport politics\n",
      "Sentence 5: linda liked books sport likes sport\n",
      "Similarity score: 0.6038472688979556\n",
      "\n",
      "Sentence 3: sara likes books politics past read books\n",
      "Sentence 4: robert loved books nature reads books\n",
      "Similarity score: 0.3589659642687218\n",
      "\n",
      "Sentence 4: robert loved books nature reads books\n",
      "Sentence 6: alison used loved nature currently likes nature sport\n",
      "Similarity score: 0.3278846815814845\n",
      "\n",
      "Sentence 1: past john liked sport likes sport politics\n",
      "Sentence 3: sara likes books politics past read books\n",
      "Similarity score: 0.29175284985914557\n",
      "\n",
      "Sentence 1: past john liked sport likes sport politics\n",
      "Sentence 2: sam liked politics fan music politics\n",
      "Similarity score: 0.2796179458525532\n",
      "\n"
     ]
    }
   ],
   "source": [
    "print_top_similar_pairs(data_dict, cosine_sim, 5)"
   ]
  },
  {
   "cell_type": "code",
   "execution_count": null,
   "metadata": {},
   "outputs": [],
   "source": []
  }
 ],
 "metadata": {
  "kernelspec": {
   "display_name": "base",
   "language": "python",
   "name": "python3"
  },
  "language_info": {
   "codemirror_mode": {
    "name": "ipython",
    "version": 3
   },
   "file_extension": ".py",
   "mimetype": "text/x-python",
   "name": "python",
   "nbconvert_exporter": "python",
   "pygments_lexer": "ipython3",
   "version": "3.8.8"
  },
  "orig_nbformat": 4
 },
 "nbformat": 4,
 "nbformat_minor": 2
}
