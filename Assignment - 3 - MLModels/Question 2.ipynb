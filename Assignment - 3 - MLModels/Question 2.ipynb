{
 "cells": [
  {
   "cell_type": "markdown",
   "metadata": {},
   "source": [
    "## Question 2"
   ]
  },
  {
   "cell_type": "code",
   "execution_count": 1,
   "metadata": {},
   "outputs": [],
   "source": [
    "%load_ext autoreload\n",
    "%autoreload 2"
   ]
  },
  {
   "cell_type": "markdown",
   "metadata": {},
   "source": [
    "### Section A- Supervised Machine Learning"
   ]
  },
  {
   "cell_type": "markdown",
   "metadata": {},
   "source": [
    "**SOME OF OUR CODE PIECES ARE SAME AS OUR ASSIGNMENT 2 SOLUTION TO AVOID DUPLICATE CODE**"
   ]
  },
  {
   "cell_type": "code",
   "execution_count": 2,
   "metadata": {},
   "outputs": [],
   "source": [
    "import pandas as pd\n",
    "import seaborn as sns\n",
    "import matplotlib.pyplot as plt\n",
    "from sklearn.model_selection import GridSearchCV\n",
    "from sklearn.metrics import mean_absolute_error\n",
    "from sklearn.neural_network import MLPClassifier\n",
    "from sklearn.linear_model import LogisticRegression\n",
    "from sklearn.model_selection import train_test_split\n",
    "from sklearn.preprocessing import MinMaxScaler, StandardScaler\n",
    "from sklearn.metrics import classification_report, confusion_matrix\n",
    "from utils import styled_print, download_data, read_and_clean_data, \\\n",
    "     plot_box_plot_hist_plot, plot_count_plot, discrete_to_target_plot, \\\n",
    "     continuous_to_target_plot, correlation_analysis, traditional_feature_importance"
   ]
  },
  {
   "cell_type": "code",
   "execution_count": 3,
   "metadata": {},
   "outputs": [],
   "source": [
    "cleveland_url = \"http://archive.ics.uci.edu/ml/machine-learning-databases/heart-disease/processed.cleveland.data\""
   ]
  },
  {
   "cell_type": "code",
   "execution_count": 4,
   "metadata": {},
   "outputs": [],
   "source": [
    "headers = {\n",
    "    0: \"age\",\n",
    "    1: \"sex\",\n",
    "    2: \"cp\",\n",
    "    3: \"trestbps\",\n",
    "    4: \"chol\",\n",
    "    5: \"fbs\",\n",
    "    6: \"restecg\",\n",
    "    7: \"thalach\",\n",
    "    8: \"exang\",\n",
    "    9: \"oldpeak\",\n",
    "    10: \"slope\",\n",
    "    11: \"ca\",\n",
    "    12: \"thal\",\n",
    "    13: \"target\"\n",
    "}"
   ]
  },
  {
   "cell_type": "code",
   "execution_count": 5,
   "metadata": {},
   "outputs": [
    {
     "name": "stdout",
     "output_type": "stream",
     "text": [
      "\u001b[1m› \u001b[4mHeart Disease Data Analysis\u001b[0m\n",
      "    Extracting Data From http://archive.ics.uci.edu/ml/machine-learning-databases/heart-disease/processed.cleveland.data\n"
     ]
    }
   ],
   "source": [
    "styled_print(f\"Heart Disease Data Analysis\", header=True)\n",
    "styled_print(f\"Extracting Data From {cleveland_url}\")\n",
    "cleveland_file = download_data(cleveland_url, path_to_download=\"./data\")\n",
    "cleveland_df = read_and_clean_data(cleveland_file, header=headers.values())"
   ]
  },
  {
   "cell_type": "code",
   "execution_count": 6,
   "metadata": {},
   "outputs": [
    {
     "name": "stdout",
     "output_type": "stream",
     "text": [
      "\u001b[1m› \u001b[4mCleveland Dataframe Info\u001b[0m\n",
      "<class 'pandas.core.frame.DataFrame'>\n",
      "RangeIndex: 303 entries, 0 to 302\n",
      "Data columns (total 14 columns):\n",
      " #   Column    Non-Null Count  Dtype  \n",
      "---  ------    --------------  -----  \n",
      " 0   age       303 non-null    float64\n",
      " 1   sex       303 non-null    float64\n",
      " 2   cp        303 non-null    float64\n",
      " 3   trestbps  303 non-null    float64\n",
      " 4   chol      303 non-null    float64\n",
      " 5   fbs       303 non-null    float64\n",
      " 6   restecg   303 non-null    float64\n",
      " 7   thalach   303 non-null    float64\n",
      " 8   exang     303 non-null    float64\n",
      " 9   oldpeak   303 non-null    float64\n",
      " 10  slope     303 non-null    float64\n",
      " 11  ca        299 non-null    float64\n",
      " 12  thal      301 non-null    float64\n",
      " 13  target    303 non-null    int64  \n",
      "dtypes: float64(13), int64(1)\n",
      "memory usage: 33.3 KB\n"
     ]
    }
   ],
   "source": [
    "styled_print(f\"Cleveland Dataframe Info\", header=True)\n",
    "cleveland_df.info()"
   ]
  },
  {
   "cell_type": "markdown",
   "metadata": {},
   "source": [
    "#### Dataset Understanding and Observations"
   ]
  },
  {
   "cell_type": "markdown",
   "metadata": {},
   "source": [
    "Here are some observations from the `heart-disease.names` file regarding the features.\n",
    "\n",
    "1. `age` is a `continuous` feature which indicates the age of the person in years. \n",
    "2. `sex` is a `binary categorical` feature indicating sex information.\n",
    "    - 1 : male\n",
    "    - 0 : female\n",
    "3. `cp` is a `categorical` feature which indicates the type of chest pain.\n",
    "    - Value 1: typical angina\n",
    "    - Value 2: atypical angina\n",
    "    - Value 3: non-anginal pain\n",
    "    - Value 4: asymptomatic\n",
    "4. `trestbps` is a `continuous` feature indicating resting blood pressure (in mm Hg on admission to the hospital).\n",
    "5. `chol` is a `continuous` feature indicating serum cholestoral in mg/dl.\n",
    "6. `fbs` is a `binary categorical` feature indicating fasting blood sugar > 120 mg/dl.\n",
    "    - 1 : true\n",
    "    - 0 : false\n",
    "7. `restecg` is a `categorical` feature indicating resting electrocardiographic results.\n",
    "    - Value 0: normal\n",
    "    - Value 1: having ST-T wave abnormality (T wave inversions and/or ST elevation or depression of > 0.05 mV)\n",
    "    - Value 2: showing probable or definite left ventricular hypertrophy by Estes' criteria\n",
    "8. `thalach` is a `continuous` feature indicating maximum heart rate achieved.\n",
    "9. `exang` is a `binary categorical` feature indicating exercise induced angina.\n",
    "    - 1 : yes\n",
    "    - 0 : no\n",
    "10. `oldpeak` is a `continuos` feature indicating ST depression induced by exercise relative to rest.\n",
    "11. `slope` is a `categorical`feature indicating the slope of the peak exercise ST segment.\n",
    "    - Value 1: upsloping\n",
    "    - Value 2: flat\n",
    "    - Value 3: downsloping\n",
    "12. `ca` is a `categorical` feature indicating number of major vessels (0-3) colored by flourosopy.\n",
    "13. `thal` is a `categorical` feature.\n",
    "    - 3 : normal\n",
    "    - 6 : fixed defect\n",
    "    - 7 : reversable defect\n",
    "14. `target` is a `categorical` feature (target) indicating the diagnosis of heart disease (angiographic disease status)\n",
    "\n",
    "**Two main observations:** \n",
    "1. As all of over categorical features are already numerically encoded we will treat them as discrete feature and not traditional categorical features. \n",
    "2. As provided in `heart-disease.names` file:\n",
    "\n",
    "    ```The \"goal\" field refers to the presence of heart disease in the patient.  It is integer valued from 0 (no presence) to 4. Experiments with the Cleveland database have concentrated on simply attempting to distinguish presence (values 1,2,3,4) from absence (value 0).```\n",
    "\n",
    "    So Initially We can convert the `target` into two categories \n",
    "    - 0: Absence of Heart disease\n",
    "    - 1: Presence of Heart disease (Combine current categories 1, 2, 3, and 4)"
   ]
  },
  {
   "cell_type": "code",
   "execution_count": 7,
   "metadata": {},
   "outputs": [],
   "source": [
    "categorical_columns = [\"cp\", \"restecg\", \"slope\", \"thal\", \"ca\"]\n",
    "binary_columns = [\"sex\", \"fbs\", \"exang\"]\n",
    "\n",
    "continuous_columns = [\"age\", \"trestbps\", \"chol\", \"thalach\", \"oldpeak\"]\n",
    "discrete_columns = categorical_columns + binary_columns\n",
    "target_column = [\"target\"]"
   ]
  },
  {
   "cell_type": "code",
   "execution_count": 8,
   "metadata": {},
   "outputs": [],
   "source": [
    "# Creating Copy of Dataframe for Data Processing\n",
    "data_df = cleveland_df.copy()"
   ]
  },
  {
   "cell_type": "markdown",
   "metadata": {},
   "source": [
    "#### Data Preprocessing and Exploratory Data Analysis"
   ]
  },
  {
   "cell_type": "markdown",
   "metadata": {},
   "source": [
    "##### Preprocessing Target"
   ]
  },
  {
   "cell_type": "code",
   "execution_count": 9,
   "metadata": {},
   "outputs": [
    {
     "data": {
      "text/plain": [
       "0    164\n",
       "1     55\n",
       "2     36\n",
       "3     35\n",
       "4     13\n",
       "Name: target, dtype: int64"
      ]
     },
     "execution_count": 9,
     "metadata": {},
     "output_type": "execute_result"
    }
   ],
   "source": [
    "# Check unique values for target and its percentage\n",
    "data_df[\"target\"].value_counts(dropna=False)"
   ]
  },
  {
   "cell_type": "code",
   "execution_count": 10,
   "metadata": {},
   "outputs": [],
   "source": [
    "# Mapping target 2, 3, and 4 to 1. \n",
    "target_mapping = {2: 1, 3: 1, 4: 1}\n",
    "data_df[\"target\"] = data_df[\"target\"].apply(lambda x: 1 if x == 2 or x == 3 or x == 4 else x)"
   ]
  },
  {
   "cell_type": "code",
   "execution_count": 11,
   "metadata": {},
   "outputs": [
    {
     "data": {
      "text/plain": [
       "0    164\n",
       "1    139\n",
       "Name: target, dtype: int64"
      ]
     },
     "execution_count": 11,
     "metadata": {},
     "output_type": "execute_result"
    }
   ],
   "source": [
    "# Check unique values for target and its percentage\n",
    "data_df[\"target\"].value_counts(dropna=False)"
   ]
  },
  {
   "cell_type": "markdown",
   "metadata": {},
   "source": [
    "##### Splitting The Data"
   ]
  },
  {
   "cell_type": "markdown",
   "metadata": {},
   "source": [
    "To split the data we are using `train_test_split()` method from `sklearn's` `model_selection` module. The splitting is based on the following parameters:\n",
    "1. `test_size` is set to `0.2`. It will makes sure that we have 20% of our data for testing and rest 80% of data we can use for training and/or cross-validation.\n",
    "2. `random_state` is set to `10`. We can set it to any fix number as it will help us in reproducibility of our experiment.\n",
    "3. `stratify` is set to `target` feature. This will ensure the stratified sampling process. In simple words it will make sure that the distribution of Heart Disease and Non-Heart Disease patient remains as it is even after the split. Refer [this](https://scikit-learn.org/stable/modules/cross_validation.html#cross-validation-iterators-with-stratification-based-on-class-labels) for further details. \n",
    "4. `shuffle` is set to `True`."
   ]
  },
  {
   "cell_type": "code",
   "execution_count": 12,
   "metadata": {},
   "outputs": [],
   "source": [
    "train_df, test_df = train_test_split(data_df, test_size=.2, random_state=10, stratify=data_df[\"target\"], shuffle=True)"
   ]
  },
  {
   "cell_type": "markdown",
   "metadata": {},
   "source": [
    "Let's check how stratify sampling make sure that the distribution of data is balance after the split too. "
   ]
  },
  {
   "cell_type": "code",
   "execution_count": 13,
   "metadata": {},
   "outputs": [
    {
     "data": {
      "text/plain": [
       "0    54.125413\n",
       "1    45.874587\n",
       "Name: target, dtype: float64"
      ]
     },
     "execution_count": 13,
     "metadata": {},
     "output_type": "execute_result"
    }
   ],
   "source": [
    "# Check unique values for target and its percentage\n",
    "data_df[\"target\"].value_counts(normalize=True)*100"
   ]
  },
  {
   "cell_type": "code",
   "execution_count": 14,
   "metadata": {},
   "outputs": [
    {
     "data": {
      "text/plain": [
       "0    54.132231\n",
       "1    45.867769\n",
       "Name: target, dtype: float64"
      ]
     },
     "execution_count": 14,
     "metadata": {},
     "output_type": "execute_result"
    }
   ],
   "source": [
    "# Check unique values for target and its percentage\n",
    "train_df[\"target\"].value_counts(normalize=True)*100"
   ]
  },
  {
   "cell_type": "code",
   "execution_count": 15,
   "metadata": {},
   "outputs": [
    {
     "data": {
      "text/plain": [
       "0    54.098361\n",
       "1    45.901639\n",
       "Name: target, dtype: float64"
      ]
     },
     "execution_count": 15,
     "metadata": {},
     "output_type": "execute_result"
    }
   ],
   "source": [
    "# Check unique values for target and its percentage\n",
    "test_df[\"target\"].value_counts(normalize=True)*100"
   ]
  },
  {
   "cell_type": "markdown",
   "metadata": {},
   "source": [
    "As we can see that in both training and testing dataset, `54%` of data comes from the `label 0` i.e. Absence of Heart Disease while `46%` of data comes from the `label 1` i.e. Presence of Heart Disease. **These percentages matches the percentage distribution in original dataset.**"
   ]
  },
  {
   "cell_type": "code",
   "execution_count": 16,
   "metadata": {},
   "outputs": [
    {
     "name": "stdout",
     "output_type": "stream",
     "text": [
      "\u001b[1m› \u001b[4mThere are 242 data points for training and 61 data points for testing.\u001b[0m\n"
     ]
    }
   ],
   "source": [
    "styled_print(f\"There are {train_df.shape[0]} data points for training and {test_df.shape[0]} data points for testing.\", header=True)"
   ]
  },
  {
   "cell_type": "markdown",
   "metadata": {},
   "source": [
    "**Why are we splitting data first before any exploratory data analysis or even treating missing values??**"
   ]
  },
  {
   "cell_type": "markdown",
   "metadata": {},
   "source": [
    "Our reasoning to split the data at the very beginning of workflow is to make sure that we can ensure that there is no data leak issues.\n",
    "For example, we usually use median value to replace the missing values in a continuous feature. We want to make sure that the median value which we calculate comes only from the training set and we apply it to test set. This way we can gurantee that even in data preprocessing we are not introducing any direct or indirect data leak issues. \n",
    "\n",
    "This fact is usually ignored in many books and material but in practice it is heavily been used. \n"
   ]
  },
  {
   "cell_type": "markdown",
   "metadata": {},
   "source": [
    "##### Missing Value Treatment"
   ]
  },
  {
   "cell_type": "code",
   "execution_count": 17,
   "metadata": {},
   "outputs": [
    {
     "data": {
      "text/plain": [
       "age         0\n",
       "sex         0\n",
       "cp          0\n",
       "trestbps    0\n",
       "chol        0\n",
       "fbs         0\n",
       "restecg     0\n",
       "thalach     0\n",
       "exang       0\n",
       "oldpeak     0\n",
       "slope       0\n",
       "ca          3\n",
       "thal        2\n",
       "target      0\n",
       "dtype: int64"
      ]
     },
     "execution_count": 17,
     "metadata": {},
     "output_type": "execute_result"
    }
   ],
   "source": [
    "train_df.isnull().sum()"
   ]
  },
  {
   "cell_type": "code",
   "execution_count": 18,
   "metadata": {},
   "outputs": [
    {
     "data": {
      "text/plain": [
       "age         0\n",
       "sex         0\n",
       "cp          0\n",
       "trestbps    0\n",
       "chol        0\n",
       "fbs         0\n",
       "restecg     0\n",
       "thalach     0\n",
       "exang       0\n",
       "oldpeak     0\n",
       "slope       0\n",
       "ca          1\n",
       "thal        0\n",
       "target      0\n",
       "dtype: int64"
      ]
     },
     "execution_count": 18,
     "metadata": {},
     "output_type": "execute_result"
    }
   ],
   "source": [
    "test_df.isnull().sum()"
   ]
  },
  {
   "cell_type": "markdown",
   "metadata": {},
   "source": [
    "As we have a very small number of missing values in the training and test dataset, it would be better to drop those rows instead of trying to figure out strategy to replace them. "
   ]
  },
  {
   "cell_type": "code",
   "execution_count": 19,
   "metadata": {},
   "outputs": [],
   "source": [
    "train_df = train_df.dropna()\n",
    "test_df = test_df.dropna()"
   ]
  },
  {
   "cell_type": "markdown",
   "metadata": {},
   "source": [
    "Let's verify that all the rows with missing values are dropped. "
   ]
  },
  {
   "cell_type": "code",
   "execution_count": 20,
   "metadata": {},
   "outputs": [
    {
     "data": {
      "text/plain": [
       "age         0\n",
       "sex         0\n",
       "cp          0\n",
       "trestbps    0\n",
       "chol        0\n",
       "fbs         0\n",
       "restecg     0\n",
       "thalach     0\n",
       "exang       0\n",
       "oldpeak     0\n",
       "slope       0\n",
       "ca          0\n",
       "thal        0\n",
       "target      0\n",
       "dtype: int64"
      ]
     },
     "execution_count": 20,
     "metadata": {},
     "output_type": "execute_result"
    }
   ],
   "source": [
    "train_df.isnull().sum()"
   ]
  },
  {
   "cell_type": "code",
   "execution_count": 21,
   "metadata": {},
   "outputs": [
    {
     "data": {
      "text/plain": [
       "age         0\n",
       "sex         0\n",
       "cp          0\n",
       "trestbps    0\n",
       "chol        0\n",
       "fbs         0\n",
       "restecg     0\n",
       "thalach     0\n",
       "exang       0\n",
       "oldpeak     0\n",
       "slope       0\n",
       "ca          0\n",
       "thal        0\n",
       "target      0\n",
       "dtype: int64"
      ]
     },
     "execution_count": 21,
     "metadata": {},
     "output_type": "execute_result"
    }
   ],
   "source": [
    "test_df.isnull().sum()"
   ]
  },
  {
   "cell_type": "code",
   "execution_count": 22,
   "metadata": {},
   "outputs": [
    {
     "name": "stdout",
     "output_type": "stream",
     "text": [
      "    There are 237 data points for training and 60 data points for testing.\n"
     ]
    }
   ],
   "source": [
    "styled_print(f\"There are {train_df.shape[0]} data points for training and {test_df.shape[0]} data points for testing.\")"
   ]
  },
  {
   "cell_type": "markdown",
   "metadata": {},
   "source": [
    "#### Model Creation"
   ]
  },
  {
   "attachments": {},
   "cell_type": "markdown",
   "metadata": {},
   "source": [
    "We will follow these steps to create the `BASELINE` model:\n",
    "- Prepare the data for modeling.\n",
    "    - Create X and Y - (x_train, y_train) and (x_test, y_test)\n",
    "    - Scale Continuous Features using Standard Scaler.\n",
    "    - Scale Discrete Features using Standard Scaler.\n",
    "- Build the `BASELINE` model on the train data.\n",
    "    - Create `Losgistic Regression` Model\n",
    "- Build the `IMPROVED` model on the train data.\n",
    "    - Create `Neural Network` Model\n",
    "- Test the model on the test set.\n",
    "    - Calculate $MAE$ score to measure the performance of the model.\n",
    "    - Calculate $Confusion \\ Matrix$.\n",
    "    - Calculate $Classification \\ Report$ to get Precision, Recall and F1 Score.\n",
    "\n",
    "Here `BASELINE` model means\n",
    "    - We will use all features to create the model.\n",
    "\n",
    "Later we will improve the model based on the learnings from the `BASELINE` model."
   ]
  },
  {
   "cell_type": "markdown",
   "metadata": {},
   "source": [
    "##### Prepare the data for modeling"
   ]
  },
  {
   "cell_type": "code",
   "execution_count": 23,
   "metadata": {},
   "outputs": [],
   "source": [
    "y_train = train_df[target_column[0]].copy()\n",
    "x_train = train_df.drop(target_column[0], axis=1)"
   ]
  },
  {
   "cell_type": "code",
   "execution_count": 24,
   "metadata": {},
   "outputs": [],
   "source": [
    "y_test = test_df[target_column[0]].copy()\n",
    "x_test = test_df.drop(target_column[0], axis=1)"
   ]
  },
  {
   "cell_type": "code",
   "execution_count": 25,
   "metadata": {},
   "outputs": [],
   "source": [
    "x_train_copy = x_train.copy(deep=True).reset_index(drop=True)\n",
    "x_test_copy = x_test.copy(deep=True).reset_index(drop=True)"
   ]
  },
  {
   "cell_type": "code",
   "execution_count": 26,
   "metadata": {},
   "outputs": [],
   "source": [
    "scaler = StandardScaler()\n",
    "scaler.fit(x_train)\n",
    "x_train = pd.DataFrame(scaler.transform(x_train),columns = x_train.columns)\n",
    "x_test = pd.DataFrame(scaler.transform(x_test),columns = x_test.columns)"
   ]
  },
  {
   "cell_type": "code",
   "execution_count": 27,
   "metadata": {},
   "outputs": [
    {
     "data": {
      "text/html": [
       "<div>\n",
       "<style scoped>\n",
       "    .dataframe tbody tr th:only-of-type {\n",
       "        vertical-align: middle;\n",
       "    }\n",
       "\n",
       "    .dataframe tbody tr th {\n",
       "        vertical-align: top;\n",
       "    }\n",
       "\n",
       "    .dataframe thead th {\n",
       "        text-align: right;\n",
       "    }\n",
       "</style>\n",
       "<table border=\"1\" class=\"dataframe\">\n",
       "  <thead>\n",
       "    <tr style=\"text-align: right;\">\n",
       "      <th></th>\n",
       "      <th>age</th>\n",
       "      <th>sex</th>\n",
       "      <th>cp</th>\n",
       "      <th>trestbps</th>\n",
       "      <th>chol</th>\n",
       "      <th>fbs</th>\n",
       "      <th>restecg</th>\n",
       "      <th>thalach</th>\n",
       "      <th>exang</th>\n",
       "      <th>oldpeak</th>\n",
       "      <th>slope</th>\n",
       "      <th>ca</th>\n",
       "      <th>thal</th>\n",
       "    </tr>\n",
       "  </thead>\n",
       "  <tbody>\n",
       "    <tr>\n",
       "      <th>0</th>\n",
       "      <td>63.0</td>\n",
       "      <td>0.0</td>\n",
       "      <td>4.0</td>\n",
       "      <td>150.0</td>\n",
       "      <td>407.0</td>\n",
       "      <td>0.0</td>\n",
       "      <td>2.0</td>\n",
       "      <td>154.0</td>\n",
       "      <td>0.0</td>\n",
       "      <td>4.0</td>\n",
       "      <td>2.0</td>\n",
       "      <td>3.0</td>\n",
       "      <td>7.0</td>\n",
       "    </tr>\n",
       "    <tr>\n",
       "      <th>1</th>\n",
       "      <td>48.0</td>\n",
       "      <td>1.0</td>\n",
       "      <td>4.0</td>\n",
       "      <td>130.0</td>\n",
       "      <td>256.0</td>\n",
       "      <td>1.0</td>\n",
       "      <td>2.0</td>\n",
       "      <td>150.0</td>\n",
       "      <td>1.0</td>\n",
       "      <td>0.0</td>\n",
       "      <td>1.0</td>\n",
       "      <td>2.0</td>\n",
       "      <td>7.0</td>\n",
       "    </tr>\n",
       "    <tr>\n",
       "      <th>2</th>\n",
       "      <td>50.0</td>\n",
       "      <td>1.0</td>\n",
       "      <td>4.0</td>\n",
       "      <td>150.0</td>\n",
       "      <td>243.0</td>\n",
       "      <td>0.0</td>\n",
       "      <td>2.0</td>\n",
       "      <td>128.0</td>\n",
       "      <td>0.0</td>\n",
       "      <td>2.6</td>\n",
       "      <td>2.0</td>\n",
       "      <td>0.0</td>\n",
       "      <td>7.0</td>\n",
       "    </tr>\n",
       "    <tr>\n",
       "      <th>3</th>\n",
       "      <td>63.0</td>\n",
       "      <td>0.0</td>\n",
       "      <td>2.0</td>\n",
       "      <td>140.0</td>\n",
       "      <td>195.0</td>\n",
       "      <td>0.0</td>\n",
       "      <td>0.0</td>\n",
       "      <td>179.0</td>\n",
       "      <td>0.0</td>\n",
       "      <td>0.0</td>\n",
       "      <td>1.0</td>\n",
       "      <td>2.0</td>\n",
       "      <td>3.0</td>\n",
       "    </tr>\n",
       "    <tr>\n",
       "      <th>4</th>\n",
       "      <td>49.0</td>\n",
       "      <td>0.0</td>\n",
       "      <td>2.0</td>\n",
       "      <td>134.0</td>\n",
       "      <td>271.0</td>\n",
       "      <td>0.0</td>\n",
       "      <td>0.0</td>\n",
       "      <td>162.0</td>\n",
       "      <td>0.0</td>\n",
       "      <td>0.0</td>\n",
       "      <td>2.0</td>\n",
       "      <td>0.0</td>\n",
       "      <td>3.0</td>\n",
       "    </tr>\n",
       "    <tr>\n",
       "      <th>5</th>\n",
       "      <td>57.0</td>\n",
       "      <td>1.0</td>\n",
       "      <td>4.0</td>\n",
       "      <td>152.0</td>\n",
       "      <td>274.0</td>\n",
       "      <td>0.0</td>\n",
       "      <td>0.0</td>\n",
       "      <td>88.0</td>\n",
       "      <td>1.0</td>\n",
       "      <td>1.2</td>\n",
       "      <td>2.0</td>\n",
       "      <td>1.0</td>\n",
       "      <td>7.0</td>\n",
       "    </tr>\n",
       "    <tr>\n",
       "      <th>6</th>\n",
       "      <td>60.0</td>\n",
       "      <td>0.0</td>\n",
       "      <td>4.0</td>\n",
       "      <td>158.0</td>\n",
       "      <td>305.0</td>\n",
       "      <td>0.0</td>\n",
       "      <td>2.0</td>\n",
       "      <td>161.0</td>\n",
       "      <td>0.0</td>\n",
       "      <td>0.0</td>\n",
       "      <td>1.0</td>\n",
       "      <td>0.0</td>\n",
       "      <td>3.0</td>\n",
       "    </tr>\n",
       "    <tr>\n",
       "      <th>7</th>\n",
       "      <td>65.0</td>\n",
       "      <td>0.0</td>\n",
       "      <td>3.0</td>\n",
       "      <td>140.0</td>\n",
       "      <td>417.0</td>\n",
       "      <td>1.0</td>\n",
       "      <td>2.0</td>\n",
       "      <td>157.0</td>\n",
       "      <td>0.0</td>\n",
       "      <td>0.8</td>\n",
       "      <td>1.0</td>\n",
       "      <td>1.0</td>\n",
       "      <td>3.0</td>\n",
       "    </tr>\n",
       "    <tr>\n",
       "      <th>8</th>\n",
       "      <td>43.0</td>\n",
       "      <td>0.0</td>\n",
       "      <td>3.0</td>\n",
       "      <td>122.0</td>\n",
       "      <td>213.0</td>\n",
       "      <td>0.0</td>\n",
       "      <td>0.0</td>\n",
       "      <td>165.0</td>\n",
       "      <td>0.0</td>\n",
       "      <td>0.2</td>\n",
       "      <td>2.0</td>\n",
       "      <td>0.0</td>\n",
       "      <td>3.0</td>\n",
       "    </tr>\n",
       "    <tr>\n",
       "      <th>9</th>\n",
       "      <td>61.0</td>\n",
       "      <td>1.0</td>\n",
       "      <td>4.0</td>\n",
       "      <td>138.0</td>\n",
       "      <td>166.0</td>\n",
       "      <td>0.0</td>\n",
       "      <td>2.0</td>\n",
       "      <td>125.0</td>\n",
       "      <td>1.0</td>\n",
       "      <td>3.6</td>\n",
       "      <td>2.0</td>\n",
       "      <td>1.0</td>\n",
       "      <td>3.0</td>\n",
       "    </tr>\n",
       "  </tbody>\n",
       "</table>\n",
       "</div>"
      ],
      "text/plain": [
       "    age  sex   cp  trestbps   chol  fbs  restecg  thalach  exang  oldpeak  \\\n",
       "0  63.0  0.0  4.0     150.0  407.0  0.0      2.0    154.0    0.0      4.0   \n",
       "1  48.0  1.0  4.0     130.0  256.0  1.0      2.0    150.0    1.0      0.0   \n",
       "2  50.0  1.0  4.0     150.0  243.0  0.0      2.0    128.0    0.0      2.6   \n",
       "3  63.0  0.0  2.0     140.0  195.0  0.0      0.0    179.0    0.0      0.0   \n",
       "4  49.0  0.0  2.0     134.0  271.0  0.0      0.0    162.0    0.0      0.0   \n",
       "5  57.0  1.0  4.0     152.0  274.0  0.0      0.0     88.0    1.0      1.2   \n",
       "6  60.0  0.0  4.0     158.0  305.0  0.0      2.0    161.0    0.0      0.0   \n",
       "7  65.0  0.0  3.0     140.0  417.0  1.0      2.0    157.0    0.0      0.8   \n",
       "8  43.0  0.0  3.0     122.0  213.0  0.0      0.0    165.0    0.0      0.2   \n",
       "9  61.0  1.0  4.0     138.0  166.0  0.0      2.0    125.0    1.0      3.6   \n",
       "\n",
       "   slope   ca  thal  \n",
       "0    2.0  3.0   7.0  \n",
       "1    1.0  2.0   7.0  \n",
       "2    2.0  0.0   7.0  \n",
       "3    1.0  2.0   3.0  \n",
       "4    2.0  0.0   3.0  \n",
       "5    2.0  1.0   7.0  \n",
       "6    1.0  0.0   3.0  \n",
       "7    1.0  1.0   3.0  \n",
       "8    2.0  0.0   3.0  \n",
       "9    2.0  1.0   3.0  "
      ]
     },
     "execution_count": 27,
     "metadata": {},
     "output_type": "execute_result"
    }
   ],
   "source": [
    "x_train_copy.head(10)"
   ]
  },
  {
   "cell_type": "code",
   "execution_count": 28,
   "metadata": {},
   "outputs": [
    {
     "data": {
      "text/html": [
       "<div>\n",
       "<style scoped>\n",
       "    .dataframe tbody tr th:only-of-type {\n",
       "        vertical-align: middle;\n",
       "    }\n",
       "\n",
       "    .dataframe tbody tr th {\n",
       "        vertical-align: top;\n",
       "    }\n",
       "\n",
       "    .dataframe thead th {\n",
       "        text-align: right;\n",
       "    }\n",
       "</style>\n",
       "<table border=\"1\" class=\"dataframe\">\n",
       "  <thead>\n",
       "    <tr style=\"text-align: right;\">\n",
       "      <th></th>\n",
       "      <th>age</th>\n",
       "      <th>sex</th>\n",
       "      <th>cp</th>\n",
       "      <th>trestbps</th>\n",
       "      <th>chol</th>\n",
       "      <th>fbs</th>\n",
       "      <th>restecg</th>\n",
       "      <th>thalach</th>\n",
       "      <th>exang</th>\n",
       "      <th>oldpeak</th>\n",
       "      <th>slope</th>\n",
       "      <th>ca</th>\n",
       "      <th>thal</th>\n",
       "    </tr>\n",
       "  </thead>\n",
       "  <tbody>\n",
       "    <tr>\n",
       "      <th>0</th>\n",
       "      <td>0.904034</td>\n",
       "      <td>-1.441500</td>\n",
       "      <td>0.892576</td>\n",
       "      <td>1.028464</td>\n",
       "      <td>2.971492</td>\n",
       "      <td>-0.430116</td>\n",
       "      <td>1.043141</td>\n",
       "      <td>0.214538</td>\n",
       "      <td>-0.673786</td>\n",
       "      <td>2.674191</td>\n",
       "      <td>0.665067</td>\n",
       "      <td>2.484568</td>\n",
       "      <td>1.162183</td>\n",
       "    </tr>\n",
       "    <tr>\n",
       "      <th>1</th>\n",
       "      <td>-0.748326</td>\n",
       "      <td>0.693722</td>\n",
       "      <td>0.892576</td>\n",
       "      <td>-0.099206</td>\n",
       "      <td>0.137778</td>\n",
       "      <td>2.324953</td>\n",
       "      <td>1.043141</td>\n",
       "      <td>0.044486</td>\n",
       "      <td>1.484150</td>\n",
       "      <td>-0.919703</td>\n",
       "      <td>-1.029781</td>\n",
       "      <td>1.408073</td>\n",
       "      <td>1.162183</td>\n",
       "    </tr>\n",
       "    <tr>\n",
       "      <th>2</th>\n",
       "      <td>-0.528011</td>\n",
       "      <td>0.693722</td>\n",
       "      <td>0.892576</td>\n",
       "      <td>1.028464</td>\n",
       "      <td>-0.106184</td>\n",
       "      <td>-0.430116</td>\n",
       "      <td>1.043141</td>\n",
       "      <td>-0.890801</td>\n",
       "      <td>-0.673786</td>\n",
       "      <td>1.416328</td>\n",
       "      <td>0.665067</td>\n",
       "      <td>-0.744916</td>\n",
       "      <td>1.162183</td>\n",
       "    </tr>\n",
       "    <tr>\n",
       "      <th>3</th>\n",
       "      <td>0.904034</td>\n",
       "      <td>-1.441500</td>\n",
       "      <td>-1.181351</td>\n",
       "      <td>0.464629</td>\n",
       "      <td>-1.006967</td>\n",
       "      <td>-0.430116</td>\n",
       "      <td>-0.966814</td>\n",
       "      <td>1.277365</td>\n",
       "      <td>-0.673786</td>\n",
       "      <td>-0.919703</td>\n",
       "      <td>-1.029781</td>\n",
       "      <td>1.408073</td>\n",
       "      <td>-0.901018</td>\n",
       "    </tr>\n",
       "    <tr>\n",
       "      <th>4</th>\n",
       "      <td>-0.638169</td>\n",
       "      <td>-1.441500</td>\n",
       "      <td>-1.181351</td>\n",
       "      <td>0.126328</td>\n",
       "      <td>0.419273</td>\n",
       "      <td>-0.430116</td>\n",
       "      <td>-0.966814</td>\n",
       "      <td>0.554643</td>\n",
       "      <td>-0.673786</td>\n",
       "      <td>-0.919703</td>\n",
       "      <td>0.665067</td>\n",
       "      <td>-0.744916</td>\n",
       "      <td>-0.901018</td>\n",
       "    </tr>\n",
       "    <tr>\n",
       "      <th>5</th>\n",
       "      <td>0.243090</td>\n",
       "      <td>0.693722</td>\n",
       "      <td>0.892576</td>\n",
       "      <td>1.141232</td>\n",
       "      <td>0.475572</td>\n",
       "      <td>-0.430116</td>\n",
       "      <td>-0.966814</td>\n",
       "      <td>-2.591323</td>\n",
       "      <td>1.484150</td>\n",
       "      <td>0.158465</td>\n",
       "      <td>0.665067</td>\n",
       "      <td>0.331578</td>\n",
       "      <td>1.162183</td>\n",
       "    </tr>\n",
       "    <tr>\n",
       "      <th>6</th>\n",
       "      <td>0.573562</td>\n",
       "      <td>-1.441500</td>\n",
       "      <td>0.892576</td>\n",
       "      <td>1.479533</td>\n",
       "      <td>1.057328</td>\n",
       "      <td>-0.430116</td>\n",
       "      <td>1.043141</td>\n",
       "      <td>0.512130</td>\n",
       "      <td>-0.673786</td>\n",
       "      <td>-0.919703</td>\n",
       "      <td>-1.029781</td>\n",
       "      <td>-0.744916</td>\n",
       "      <td>-0.901018</td>\n",
       "    </tr>\n",
       "    <tr>\n",
       "      <th>7</th>\n",
       "      <td>1.124348</td>\n",
       "      <td>-1.441500</td>\n",
       "      <td>-0.144387</td>\n",
       "      <td>0.464629</td>\n",
       "      <td>3.159156</td>\n",
       "      <td>2.324953</td>\n",
       "      <td>1.043141</td>\n",
       "      <td>0.342078</td>\n",
       "      <td>-0.673786</td>\n",
       "      <td>-0.200924</td>\n",
       "      <td>-1.029781</td>\n",
       "      <td>0.331578</td>\n",
       "      <td>-0.901018</td>\n",
       "    </tr>\n",
       "    <tr>\n",
       "      <th>8</th>\n",
       "      <td>-1.299113</td>\n",
       "      <td>-1.441500</td>\n",
       "      <td>-0.144387</td>\n",
       "      <td>-0.550275</td>\n",
       "      <td>-0.669174</td>\n",
       "      <td>-0.430116</td>\n",
       "      <td>-0.966814</td>\n",
       "      <td>0.682182</td>\n",
       "      <td>-0.673786</td>\n",
       "      <td>-0.740009</td>\n",
       "      <td>0.665067</td>\n",
       "      <td>-0.744916</td>\n",
       "      <td>-0.901018</td>\n",
       "    </tr>\n",
       "    <tr>\n",
       "      <th>9</th>\n",
       "      <td>0.683719</td>\n",
       "      <td>0.693722</td>\n",
       "      <td>0.892576</td>\n",
       "      <td>0.351862</td>\n",
       "      <td>-1.551191</td>\n",
       "      <td>-0.430116</td>\n",
       "      <td>1.043141</td>\n",
       "      <td>-1.018340</td>\n",
       "      <td>1.484150</td>\n",
       "      <td>2.314801</td>\n",
       "      <td>0.665067</td>\n",
       "      <td>0.331578</td>\n",
       "      <td>-0.901018</td>\n",
       "    </tr>\n",
       "  </tbody>\n",
       "</table>\n",
       "</div>"
      ],
      "text/plain": [
       "        age       sex        cp  trestbps      chol       fbs   restecg  \\\n",
       "0  0.904034 -1.441500  0.892576  1.028464  2.971492 -0.430116  1.043141   \n",
       "1 -0.748326  0.693722  0.892576 -0.099206  0.137778  2.324953  1.043141   \n",
       "2 -0.528011  0.693722  0.892576  1.028464 -0.106184 -0.430116  1.043141   \n",
       "3  0.904034 -1.441500 -1.181351  0.464629 -1.006967 -0.430116 -0.966814   \n",
       "4 -0.638169 -1.441500 -1.181351  0.126328  0.419273 -0.430116 -0.966814   \n",
       "5  0.243090  0.693722  0.892576  1.141232  0.475572 -0.430116 -0.966814   \n",
       "6  0.573562 -1.441500  0.892576  1.479533  1.057328 -0.430116  1.043141   \n",
       "7  1.124348 -1.441500 -0.144387  0.464629  3.159156  2.324953  1.043141   \n",
       "8 -1.299113 -1.441500 -0.144387 -0.550275 -0.669174 -0.430116 -0.966814   \n",
       "9  0.683719  0.693722  0.892576  0.351862 -1.551191 -0.430116  1.043141   \n",
       "\n",
       "    thalach     exang   oldpeak     slope        ca      thal  \n",
       "0  0.214538 -0.673786  2.674191  0.665067  2.484568  1.162183  \n",
       "1  0.044486  1.484150 -0.919703 -1.029781  1.408073  1.162183  \n",
       "2 -0.890801 -0.673786  1.416328  0.665067 -0.744916  1.162183  \n",
       "3  1.277365 -0.673786 -0.919703 -1.029781  1.408073 -0.901018  \n",
       "4  0.554643 -0.673786 -0.919703  0.665067 -0.744916 -0.901018  \n",
       "5 -2.591323  1.484150  0.158465  0.665067  0.331578  1.162183  \n",
       "6  0.512130 -0.673786 -0.919703 -1.029781 -0.744916 -0.901018  \n",
       "7  0.342078 -0.673786 -0.200924 -1.029781  0.331578 -0.901018  \n",
       "8  0.682182 -0.673786 -0.740009  0.665067 -0.744916 -0.901018  \n",
       "9 -1.018340  1.484150  2.314801  0.665067  0.331578 -0.901018  "
      ]
     },
     "execution_count": 28,
     "metadata": {},
     "output_type": "execute_result"
    }
   ],
   "source": [
    "x_train.head(10)"
   ]
  },
  {
   "cell_type": "code",
   "execution_count": 29,
   "metadata": {},
   "outputs": [
    {
     "data": {
      "text/html": [
       "<div>\n",
       "<style scoped>\n",
       "    .dataframe tbody tr th:only-of-type {\n",
       "        vertical-align: middle;\n",
       "    }\n",
       "\n",
       "    .dataframe tbody tr th {\n",
       "        vertical-align: top;\n",
       "    }\n",
       "\n",
       "    .dataframe thead th {\n",
       "        text-align: right;\n",
       "    }\n",
       "</style>\n",
       "<table border=\"1\" class=\"dataframe\">\n",
       "  <thead>\n",
       "    <tr style=\"text-align: right;\">\n",
       "      <th></th>\n",
       "      <th>age</th>\n",
       "      <th>sex</th>\n",
       "      <th>cp</th>\n",
       "      <th>trestbps</th>\n",
       "      <th>chol</th>\n",
       "      <th>fbs</th>\n",
       "      <th>restecg</th>\n",
       "      <th>thalach</th>\n",
       "      <th>exang</th>\n",
       "      <th>oldpeak</th>\n",
       "      <th>slope</th>\n",
       "      <th>ca</th>\n",
       "      <th>thal</th>\n",
       "    </tr>\n",
       "  </thead>\n",
       "  <tbody>\n",
       "    <tr>\n",
       "      <th>0</th>\n",
       "      <td>41.0</td>\n",
       "      <td>0.0</td>\n",
       "      <td>3.0</td>\n",
       "      <td>112.0</td>\n",
       "      <td>268.0</td>\n",
       "      <td>0.0</td>\n",
       "      <td>2.0</td>\n",
       "      <td>172.0</td>\n",
       "      <td>1.0</td>\n",
       "      <td>0.0</td>\n",
       "      <td>1.0</td>\n",
       "      <td>0.0</td>\n",
       "      <td>3.0</td>\n",
       "    </tr>\n",
       "    <tr>\n",
       "      <th>1</th>\n",
       "      <td>64.0</td>\n",
       "      <td>1.0</td>\n",
       "      <td>4.0</td>\n",
       "      <td>120.0</td>\n",
       "      <td>246.0</td>\n",
       "      <td>0.0</td>\n",
       "      <td>2.0</td>\n",
       "      <td>96.0</td>\n",
       "      <td>1.0</td>\n",
       "      <td>2.2</td>\n",
       "      <td>3.0</td>\n",
       "      <td>1.0</td>\n",
       "      <td>3.0</td>\n",
       "    </tr>\n",
       "    <tr>\n",
       "      <th>2</th>\n",
       "      <td>43.0</td>\n",
       "      <td>1.0</td>\n",
       "      <td>4.0</td>\n",
       "      <td>120.0</td>\n",
       "      <td>177.0</td>\n",
       "      <td>0.0</td>\n",
       "      <td>2.0</td>\n",
       "      <td>120.0</td>\n",
       "      <td>1.0</td>\n",
       "      <td>2.5</td>\n",
       "      <td>2.0</td>\n",
       "      <td>0.0</td>\n",
       "      <td>7.0</td>\n",
       "    </tr>\n",
       "    <tr>\n",
       "      <th>3</th>\n",
       "      <td>35.0</td>\n",
       "      <td>1.0</td>\n",
       "      <td>4.0</td>\n",
       "      <td>126.0</td>\n",
       "      <td>282.0</td>\n",
       "      <td>0.0</td>\n",
       "      <td>2.0</td>\n",
       "      <td>156.0</td>\n",
       "      <td>1.0</td>\n",
       "      <td>0.0</td>\n",
       "      <td>1.0</td>\n",
       "      <td>0.0</td>\n",
       "      <td>7.0</td>\n",
       "    </tr>\n",
       "    <tr>\n",
       "      <th>4</th>\n",
       "      <td>56.0</td>\n",
       "      <td>1.0</td>\n",
       "      <td>2.0</td>\n",
       "      <td>130.0</td>\n",
       "      <td>221.0</td>\n",
       "      <td>0.0</td>\n",
       "      <td>2.0</td>\n",
       "      <td>163.0</td>\n",
       "      <td>0.0</td>\n",
       "      <td>0.0</td>\n",
       "      <td>1.0</td>\n",
       "      <td>0.0</td>\n",
       "      <td>7.0</td>\n",
       "    </tr>\n",
       "    <tr>\n",
       "      <th>5</th>\n",
       "      <td>54.0</td>\n",
       "      <td>1.0</td>\n",
       "      <td>3.0</td>\n",
       "      <td>125.0</td>\n",
       "      <td>273.0</td>\n",
       "      <td>0.0</td>\n",
       "      <td>2.0</td>\n",
       "      <td>152.0</td>\n",
       "      <td>0.0</td>\n",
       "      <td>0.5</td>\n",
       "      <td>3.0</td>\n",
       "      <td>1.0</td>\n",
       "      <td>3.0</td>\n",
       "    </tr>\n",
       "    <tr>\n",
       "      <th>6</th>\n",
       "      <td>58.0</td>\n",
       "      <td>1.0</td>\n",
       "      <td>4.0</td>\n",
       "      <td>114.0</td>\n",
       "      <td>318.0</td>\n",
       "      <td>0.0</td>\n",
       "      <td>1.0</td>\n",
       "      <td>140.0</td>\n",
       "      <td>0.0</td>\n",
       "      <td>4.4</td>\n",
       "      <td>3.0</td>\n",
       "      <td>3.0</td>\n",
       "      <td>6.0</td>\n",
       "    </tr>\n",
       "    <tr>\n",
       "      <th>7</th>\n",
       "      <td>63.0</td>\n",
       "      <td>0.0</td>\n",
       "      <td>3.0</td>\n",
       "      <td>135.0</td>\n",
       "      <td>252.0</td>\n",
       "      <td>0.0</td>\n",
       "      <td>2.0</td>\n",
       "      <td>172.0</td>\n",
       "      <td>0.0</td>\n",
       "      <td>0.0</td>\n",
       "      <td>1.0</td>\n",
       "      <td>0.0</td>\n",
       "      <td>3.0</td>\n",
       "    </tr>\n",
       "    <tr>\n",
       "      <th>8</th>\n",
       "      <td>41.0</td>\n",
       "      <td>0.0</td>\n",
       "      <td>2.0</td>\n",
       "      <td>105.0</td>\n",
       "      <td>198.0</td>\n",
       "      <td>0.0</td>\n",
       "      <td>0.0</td>\n",
       "      <td>168.0</td>\n",
       "      <td>0.0</td>\n",
       "      <td>0.0</td>\n",
       "      <td>1.0</td>\n",
       "      <td>1.0</td>\n",
       "      <td>3.0</td>\n",
       "    </tr>\n",
       "    <tr>\n",
       "      <th>9</th>\n",
       "      <td>46.0</td>\n",
       "      <td>1.0</td>\n",
       "      <td>4.0</td>\n",
       "      <td>120.0</td>\n",
       "      <td>249.0</td>\n",
       "      <td>0.0</td>\n",
       "      <td>2.0</td>\n",
       "      <td>144.0</td>\n",
       "      <td>0.0</td>\n",
       "      <td>0.8</td>\n",
       "      <td>1.0</td>\n",
       "      <td>0.0</td>\n",
       "      <td>7.0</td>\n",
       "    </tr>\n",
       "  </tbody>\n",
       "</table>\n",
       "</div>"
      ],
      "text/plain": [
       "    age  sex   cp  trestbps   chol  fbs  restecg  thalach  exang  oldpeak  \\\n",
       "0  41.0  0.0  3.0     112.0  268.0  0.0      2.0    172.0    1.0      0.0   \n",
       "1  64.0  1.0  4.0     120.0  246.0  0.0      2.0     96.0    1.0      2.2   \n",
       "2  43.0  1.0  4.0     120.0  177.0  0.0      2.0    120.0    1.0      2.5   \n",
       "3  35.0  1.0  4.0     126.0  282.0  0.0      2.0    156.0    1.0      0.0   \n",
       "4  56.0  1.0  2.0     130.0  221.0  0.0      2.0    163.0    0.0      0.0   \n",
       "5  54.0  1.0  3.0     125.0  273.0  0.0      2.0    152.0    0.0      0.5   \n",
       "6  58.0  1.0  4.0     114.0  318.0  0.0      1.0    140.0    0.0      4.4   \n",
       "7  63.0  0.0  3.0     135.0  252.0  0.0      2.0    172.0    0.0      0.0   \n",
       "8  41.0  0.0  2.0     105.0  198.0  0.0      0.0    168.0    0.0      0.0   \n",
       "9  46.0  1.0  4.0     120.0  249.0  0.0      2.0    144.0    0.0      0.8   \n",
       "\n",
       "   slope   ca  thal  \n",
       "0    1.0  0.0   3.0  \n",
       "1    3.0  1.0   3.0  \n",
       "2    2.0  0.0   7.0  \n",
       "3    1.0  0.0   7.0  \n",
       "4    1.0  0.0   7.0  \n",
       "5    3.0  1.0   3.0  \n",
       "6    3.0  3.0   6.0  \n",
       "7    1.0  0.0   3.0  \n",
       "8    1.0  1.0   3.0  \n",
       "9    1.0  0.0   7.0  "
      ]
     },
     "execution_count": 29,
     "metadata": {},
     "output_type": "execute_result"
    }
   ],
   "source": [
    "x_test_copy.head(10)"
   ]
  },
  {
   "cell_type": "code",
   "execution_count": 30,
   "metadata": {},
   "outputs": [
    {
     "data": {
      "text/html": [
       "<div>\n",
       "<style scoped>\n",
       "    .dataframe tbody tr th:only-of-type {\n",
       "        vertical-align: middle;\n",
       "    }\n",
       "\n",
       "    .dataframe tbody tr th {\n",
       "        vertical-align: top;\n",
       "    }\n",
       "\n",
       "    .dataframe thead th {\n",
       "        text-align: right;\n",
       "    }\n",
       "</style>\n",
       "<table border=\"1\" class=\"dataframe\">\n",
       "  <thead>\n",
       "    <tr style=\"text-align: right;\">\n",
       "      <th></th>\n",
       "      <th>age</th>\n",
       "      <th>sex</th>\n",
       "      <th>cp</th>\n",
       "      <th>trestbps</th>\n",
       "      <th>chol</th>\n",
       "      <th>fbs</th>\n",
       "      <th>restecg</th>\n",
       "      <th>thalach</th>\n",
       "      <th>exang</th>\n",
       "      <th>oldpeak</th>\n",
       "      <th>slope</th>\n",
       "      <th>ca</th>\n",
       "      <th>thal</th>\n",
       "    </tr>\n",
       "  </thead>\n",
       "  <tbody>\n",
       "    <tr>\n",
       "      <th>0</th>\n",
       "      <td>-1.519427</td>\n",
       "      <td>-1.441500</td>\n",
       "      <td>-0.144387</td>\n",
       "      <td>-1.114110</td>\n",
       "      <td>0.362974</td>\n",
       "      <td>-0.430116</td>\n",
       "      <td>1.043141</td>\n",
       "      <td>0.979773</td>\n",
       "      <td>1.484150</td>\n",
       "      <td>-0.919703</td>\n",
       "      <td>-1.029781</td>\n",
       "      <td>-0.744916</td>\n",
       "      <td>-0.901018</td>\n",
       "    </tr>\n",
       "    <tr>\n",
       "      <th>1</th>\n",
       "      <td>1.014191</td>\n",
       "      <td>0.693722</td>\n",
       "      <td>0.892576</td>\n",
       "      <td>-0.663042</td>\n",
       "      <td>-0.049885</td>\n",
       "      <td>-0.430116</td>\n",
       "      <td>1.043141</td>\n",
       "      <td>-2.251219</td>\n",
       "      <td>1.484150</td>\n",
       "      <td>1.056938</td>\n",
       "      <td>2.359914</td>\n",
       "      <td>0.331578</td>\n",
       "      <td>-0.901018</td>\n",
       "    </tr>\n",
       "    <tr>\n",
       "      <th>2</th>\n",
       "      <td>-1.299113</td>\n",
       "      <td>0.693722</td>\n",
       "      <td>0.892576</td>\n",
       "      <td>-0.663042</td>\n",
       "      <td>-1.344761</td>\n",
       "      <td>-0.430116</td>\n",
       "      <td>1.043141</td>\n",
       "      <td>-1.230905</td>\n",
       "      <td>1.484150</td>\n",
       "      <td>1.326480</td>\n",
       "      <td>0.665067</td>\n",
       "      <td>-0.744916</td>\n",
       "      <td>1.162183</td>\n",
       "    </tr>\n",
       "    <tr>\n",
       "      <th>3</th>\n",
       "      <td>-2.180371</td>\n",
       "      <td>0.693722</td>\n",
       "      <td>0.892576</td>\n",
       "      <td>-0.324741</td>\n",
       "      <td>0.625702</td>\n",
       "      <td>-0.430116</td>\n",
       "      <td>1.043141</td>\n",
       "      <td>0.299565</td>\n",
       "      <td>1.484150</td>\n",
       "      <td>-0.919703</td>\n",
       "      <td>-1.029781</td>\n",
       "      <td>-0.744916</td>\n",
       "      <td>1.162183</td>\n",
       "    </tr>\n",
       "    <tr>\n",
       "      <th>4</th>\n",
       "      <td>0.132932</td>\n",
       "      <td>0.693722</td>\n",
       "      <td>-1.181351</td>\n",
       "      <td>-0.099206</td>\n",
       "      <td>-0.519043</td>\n",
       "      <td>-0.430116</td>\n",
       "      <td>1.043141</td>\n",
       "      <td>0.597156</td>\n",
       "      <td>-0.673786</td>\n",
       "      <td>-0.919703</td>\n",
       "      <td>-1.029781</td>\n",
       "      <td>-0.744916</td>\n",
       "      <td>1.162183</td>\n",
       "    </tr>\n",
       "    <tr>\n",
       "      <th>5</th>\n",
       "      <td>-0.087382</td>\n",
       "      <td>0.693722</td>\n",
       "      <td>-0.144387</td>\n",
       "      <td>-0.381124</td>\n",
       "      <td>0.456805</td>\n",
       "      <td>-0.430116</td>\n",
       "      <td>1.043141</td>\n",
       "      <td>0.129512</td>\n",
       "      <td>-0.673786</td>\n",
       "      <td>-0.470466</td>\n",
       "      <td>2.359914</td>\n",
       "      <td>0.331578</td>\n",
       "      <td>-0.901018</td>\n",
       "    </tr>\n",
       "    <tr>\n",
       "      <th>6</th>\n",
       "      <td>0.353247</td>\n",
       "      <td>0.693722</td>\n",
       "      <td>0.892576</td>\n",
       "      <td>-1.001343</td>\n",
       "      <td>1.301290</td>\n",
       "      <td>-0.430116</td>\n",
       "      <td>0.038164</td>\n",
       "      <td>-0.380644</td>\n",
       "      <td>-0.673786</td>\n",
       "      <td>3.033580</td>\n",
       "      <td>2.359914</td>\n",
       "      <td>2.484568</td>\n",
       "      <td>0.646383</td>\n",
       "    </tr>\n",
       "    <tr>\n",
       "      <th>7</th>\n",
       "      <td>0.904034</td>\n",
       "      <td>-1.441500</td>\n",
       "      <td>-0.144387</td>\n",
       "      <td>0.182711</td>\n",
       "      <td>0.062713</td>\n",
       "      <td>-0.430116</td>\n",
       "      <td>1.043141</td>\n",
       "      <td>0.979773</td>\n",
       "      <td>-0.673786</td>\n",
       "      <td>-0.919703</td>\n",
       "      <td>-1.029781</td>\n",
       "      <td>-0.744916</td>\n",
       "      <td>-0.901018</td>\n",
       "    </tr>\n",
       "    <tr>\n",
       "      <th>8</th>\n",
       "      <td>-1.519427</td>\n",
       "      <td>-1.441500</td>\n",
       "      <td>-1.181351</td>\n",
       "      <td>-1.508795</td>\n",
       "      <td>-0.950669</td>\n",
       "      <td>-0.430116</td>\n",
       "      <td>-0.966814</td>\n",
       "      <td>0.809721</td>\n",
       "      <td>-0.673786</td>\n",
       "      <td>-0.919703</td>\n",
       "      <td>-1.029781</td>\n",
       "      <td>0.331578</td>\n",
       "      <td>-0.901018</td>\n",
       "    </tr>\n",
       "    <tr>\n",
       "      <th>9</th>\n",
       "      <td>-0.968641</td>\n",
       "      <td>0.693722</td>\n",
       "      <td>0.892576</td>\n",
       "      <td>-0.663042</td>\n",
       "      <td>0.006414</td>\n",
       "      <td>-0.430116</td>\n",
       "      <td>1.043141</td>\n",
       "      <td>-0.210592</td>\n",
       "      <td>-0.673786</td>\n",
       "      <td>-0.200924</td>\n",
       "      <td>-1.029781</td>\n",
       "      <td>-0.744916</td>\n",
       "      <td>1.162183</td>\n",
       "    </tr>\n",
       "  </tbody>\n",
       "</table>\n",
       "</div>"
      ],
      "text/plain": [
       "        age       sex        cp  trestbps      chol       fbs   restecg  \\\n",
       "0 -1.519427 -1.441500 -0.144387 -1.114110  0.362974 -0.430116  1.043141   \n",
       "1  1.014191  0.693722  0.892576 -0.663042 -0.049885 -0.430116  1.043141   \n",
       "2 -1.299113  0.693722  0.892576 -0.663042 -1.344761 -0.430116  1.043141   \n",
       "3 -2.180371  0.693722  0.892576 -0.324741  0.625702 -0.430116  1.043141   \n",
       "4  0.132932  0.693722 -1.181351 -0.099206 -0.519043 -0.430116  1.043141   \n",
       "5 -0.087382  0.693722 -0.144387 -0.381124  0.456805 -0.430116  1.043141   \n",
       "6  0.353247  0.693722  0.892576 -1.001343  1.301290 -0.430116  0.038164   \n",
       "7  0.904034 -1.441500 -0.144387  0.182711  0.062713 -0.430116  1.043141   \n",
       "8 -1.519427 -1.441500 -1.181351 -1.508795 -0.950669 -0.430116 -0.966814   \n",
       "9 -0.968641  0.693722  0.892576 -0.663042  0.006414 -0.430116  1.043141   \n",
       "\n",
       "    thalach     exang   oldpeak     slope        ca      thal  \n",
       "0  0.979773  1.484150 -0.919703 -1.029781 -0.744916 -0.901018  \n",
       "1 -2.251219  1.484150  1.056938  2.359914  0.331578 -0.901018  \n",
       "2 -1.230905  1.484150  1.326480  0.665067 -0.744916  1.162183  \n",
       "3  0.299565  1.484150 -0.919703 -1.029781 -0.744916  1.162183  \n",
       "4  0.597156 -0.673786 -0.919703 -1.029781 -0.744916  1.162183  \n",
       "5  0.129512 -0.673786 -0.470466  2.359914  0.331578 -0.901018  \n",
       "6 -0.380644 -0.673786  3.033580  2.359914  2.484568  0.646383  \n",
       "7  0.979773 -0.673786 -0.919703 -1.029781 -0.744916 -0.901018  \n",
       "8  0.809721 -0.673786 -0.919703 -1.029781  0.331578 -0.901018  \n",
       "9 -0.210592 -0.673786 -0.200924 -1.029781 -0.744916  1.162183  "
      ]
     },
     "execution_count": 30,
     "metadata": {},
     "output_type": "execute_result"
    }
   ],
   "source": [
    "x_test.head(10)"
   ]
  },
  {
   "cell_type": "markdown",
   "metadata": {},
   "source": [
    "##### Build the `BASELINE` model on the train data."
   ]
  },
  {
   "cell_type": "code",
   "execution_count": 31,
   "metadata": {},
   "outputs": [
    {
     "name": "stderr",
     "output_type": "stream",
     "text": [
      "/opt/anaconda3/lib/python3.8/site-packages/sklearn/linear_model/_logistic.py:1211: UserWarning: 'n_jobs' > 1 does not have any effect when 'solver' is set to 'liblinear'. Got 'n_jobs' = 16.\n",
      "  warnings.warn(\n"
     ]
    },
    {
     "data": {
      "text/html": [
       "<style>#sk-container-id-1 {color: black;background-color: white;}#sk-container-id-1 pre{padding: 0;}#sk-container-id-1 div.sk-toggleable {background-color: white;}#sk-container-id-1 label.sk-toggleable__label {cursor: pointer;display: block;width: 100%;margin-bottom: 0;padding: 0.3em;box-sizing: border-box;text-align: center;}#sk-container-id-1 label.sk-toggleable__label-arrow:before {content: \"▸\";float: left;margin-right: 0.25em;color: #696969;}#sk-container-id-1 label.sk-toggleable__label-arrow:hover:before {color: black;}#sk-container-id-1 div.sk-estimator:hover label.sk-toggleable__label-arrow:before {color: black;}#sk-container-id-1 div.sk-toggleable__content {max-height: 0;max-width: 0;overflow: hidden;text-align: left;background-color: #f0f8ff;}#sk-container-id-1 div.sk-toggleable__content pre {margin: 0.2em;color: black;border-radius: 0.25em;background-color: #f0f8ff;}#sk-container-id-1 input.sk-toggleable__control:checked~div.sk-toggleable__content {max-height: 200px;max-width: 100%;overflow: auto;}#sk-container-id-1 input.sk-toggleable__control:checked~label.sk-toggleable__label-arrow:before {content: \"▾\";}#sk-container-id-1 div.sk-estimator input.sk-toggleable__control:checked~label.sk-toggleable__label {background-color: #d4ebff;}#sk-container-id-1 div.sk-label input.sk-toggleable__control:checked~label.sk-toggleable__label {background-color: #d4ebff;}#sk-container-id-1 input.sk-hidden--visually {border: 0;clip: rect(1px 1px 1px 1px);clip: rect(1px, 1px, 1px, 1px);height: 1px;margin: -1px;overflow: hidden;padding: 0;position: absolute;width: 1px;}#sk-container-id-1 div.sk-estimator {font-family: monospace;background-color: #f0f8ff;border: 1px dotted black;border-radius: 0.25em;box-sizing: border-box;margin-bottom: 0.5em;}#sk-container-id-1 div.sk-estimator:hover {background-color: #d4ebff;}#sk-container-id-1 div.sk-parallel-item::after {content: \"\";width: 100%;border-bottom: 1px solid gray;flex-grow: 1;}#sk-container-id-1 div.sk-label:hover label.sk-toggleable__label {background-color: #d4ebff;}#sk-container-id-1 div.sk-serial::before {content: \"\";position: absolute;border-left: 1px solid gray;box-sizing: border-box;top: 0;bottom: 0;left: 50%;z-index: 0;}#sk-container-id-1 div.sk-serial {display: flex;flex-direction: column;align-items: center;background-color: white;padding-right: 0.2em;padding-left: 0.2em;position: relative;}#sk-container-id-1 div.sk-item {position: relative;z-index: 1;}#sk-container-id-1 div.sk-parallel {display: flex;align-items: stretch;justify-content: center;background-color: white;position: relative;}#sk-container-id-1 div.sk-item::before, #sk-container-id-1 div.sk-parallel-item::before {content: \"\";position: absolute;border-left: 1px solid gray;box-sizing: border-box;top: 0;bottom: 0;left: 50%;z-index: -1;}#sk-container-id-1 div.sk-parallel-item {display: flex;flex-direction: column;z-index: 1;position: relative;background-color: white;}#sk-container-id-1 div.sk-parallel-item:first-child::after {align-self: flex-end;width: 50%;}#sk-container-id-1 div.sk-parallel-item:last-child::after {align-self: flex-start;width: 50%;}#sk-container-id-1 div.sk-parallel-item:only-child::after {width: 0;}#sk-container-id-1 div.sk-dashed-wrapped {border: 1px dashed gray;margin: 0 0.4em 0.5em 0.4em;box-sizing: border-box;padding-bottom: 0.4em;background-color: white;}#sk-container-id-1 div.sk-label label {font-family: monospace;font-weight: bold;display: inline-block;line-height: 1.2em;}#sk-container-id-1 div.sk-label-container {text-align: center;}#sk-container-id-1 div.sk-container {/* jupyter's `normalize.less` sets `[hidden] { display: none; }` but bootstrap.min.css set `[hidden] { display: none !important; }` so we also need the `!important` here to be able to override the default hidden behavior on the sphinx rendered scikit-learn.org. See: https://github.com/scikit-learn/scikit-learn/issues/21755 */display: inline-block !important;position: relative;}#sk-container-id-1 div.sk-text-repr-fallback {display: none;}</style><div id=\"sk-container-id-1\" class=\"sk-top-container\"><div class=\"sk-text-repr-fallback\"><pre>LogisticRegression(multi_class=&#x27;ovr&#x27;, n_jobs=-1, penalty=&#x27;l1&#x27;, random_state=0,\n",
       "                   solver=&#x27;liblinear&#x27;)</pre><b>In a Jupyter environment, please rerun this cell to show the HTML representation or trust the notebook. <br />On GitHub, the HTML representation is unable to render, please try loading this page with nbviewer.org.</b></div><div class=\"sk-container\" hidden><div class=\"sk-item\"><div class=\"sk-estimator sk-toggleable\"><input class=\"sk-toggleable__control sk-hidden--visually\" id=\"sk-estimator-id-1\" type=\"checkbox\" checked><label for=\"sk-estimator-id-1\" class=\"sk-toggleable__label sk-toggleable__label-arrow\">LogisticRegression</label><div class=\"sk-toggleable__content\"><pre>LogisticRegression(multi_class=&#x27;ovr&#x27;, n_jobs=-1, penalty=&#x27;l1&#x27;, random_state=0,\n",
       "                   solver=&#x27;liblinear&#x27;)</pre></div></div></div></div></div>"
      ],
      "text/plain": [
       "LogisticRegression(multi_class='ovr', n_jobs=-1, penalty='l1', random_state=0,\n",
       "                   solver='liblinear')"
      ]
     },
     "execution_count": 31,
     "metadata": {},
     "output_type": "execute_result"
    }
   ],
   "source": [
    "logistic_regression = LogisticRegression(\n",
    "    penalty='l1', \n",
    "    solver='liblinear', \n",
    "    multi_class='ovr', \n",
    "    fit_intercept=True, \n",
    "    n_jobs=-1,\n",
    "    random_state=0\n",
    ")\n",
    "logistic_regression.fit(x_train, y_train)"
   ]
  },
  {
   "cell_type": "code",
   "execution_count": 32,
   "metadata": {},
   "outputs": [],
   "source": [
    "train_mean_acc = logistic_regression.score(x_train, y_train, sample_weight=None)\n",
    "test_mean_acc = logistic_regression.score(x_test, y_test, sample_weight=None)"
   ]
  },
  {
   "cell_type": "code",
   "execution_count": 33,
   "metadata": {},
   "outputs": [
    {
     "name": "stdout",
     "output_type": "stream",
     "text": [
      "\u001b[1m› \u001b[4mPerformance of Baseline Logistic Regression Model\u001b[0m\n",
      "    The train Mean Accuracy for Logistic Regression is 0.8481012658227848\n",
      "    The test Mean Accuracy for Logistic Regression is 0.85\n"
     ]
    }
   ],
   "source": [
    "styled_print(\"Performance of Baseline Logistic Regression Model\", header=True)\n",
    "styled_print(f\"The train Mean Accuracy for Logistic Regression is {train_mean_acc}\")\n",
    "styled_print(f\"The test Mean Accuracy for Logistic Regression is {test_mean_acc}\")"
   ]
  },
  {
   "cell_type": "code",
   "execution_count": 34,
   "metadata": {},
   "outputs": [],
   "source": [
    "y_train_pred = logistic_regression.predict(x_train)\n",
    "y_test_pred = logistic_regression.predict(x_test)"
   ]
  },
  {
   "cell_type": "code",
   "execution_count": 35,
   "metadata": {},
   "outputs": [],
   "source": [
    "train_mae = mean_absolute_error(y_train, y_train_pred)\n",
    "test_mae = mean_absolute_error(y_test, y_test_pred)"
   ]
  },
  {
   "cell_type": "code",
   "execution_count": 36,
   "metadata": {},
   "outputs": [
    {
     "name": "stdout",
     "output_type": "stream",
     "text": [
      "\u001b[1m› \u001b[4mPerformance of Baseline Logistic Regression Model\u001b[0m\n",
      "    The train Mean Absolute Error for Logistic Regression is 0.1518987341772152\n",
      "    The test Mean Absolute Error for Logistic Regression is 0.15\n"
     ]
    }
   ],
   "source": [
    "styled_print(\"Performance of Baseline Logistic Regression Model\", header=True)\n",
    "styled_print(f\"The train Mean Absolute Error for Logistic Regression is {train_mae}\")\n",
    "styled_print(f\"The test Mean Absolute Error for Logistic Regression is {test_mae}\")"
   ]
  },
  {
   "cell_type": "code",
   "execution_count": 37,
   "metadata": {},
   "outputs": [
    {
     "name": "stdout",
     "output_type": "stream",
     "text": [
      "                  precision    recall  f1-score   support\n",
      "\n",
      "No Heart Disease       0.85      0.88      0.86       128\n",
      "   Heart Disease       0.85      0.82      0.83       109\n",
      "\n",
      "        accuracy                           0.85       237\n",
      "       macro avg       0.85      0.85      0.85       237\n",
      "    weighted avg       0.85      0.85      0.85       237\n",
      "\n"
     ]
    }
   ],
   "source": [
    "target_names = ['No Heart Disease', 'Heart Disease']\n",
    "print(classification_report(y_train, y_train_pred, target_names=target_names))"
   ]
  },
  {
   "cell_type": "code",
   "execution_count": 38,
   "metadata": {},
   "outputs": [
    {
     "name": "stdout",
     "output_type": "stream",
     "text": [
      "                  precision    recall  f1-score   support\n",
      "\n",
      "No Heart Disease       0.83      0.91      0.87        32\n",
      "   Heart Disease       0.88      0.79      0.83        28\n",
      "\n",
      "        accuracy                           0.85        60\n",
      "       macro avg       0.85      0.85      0.85        60\n",
      "    weighted avg       0.85      0.85      0.85        60\n",
      "\n"
     ]
    }
   ],
   "source": [
    "y_test_pred = logistic_regression.predict(x_test)\n",
    "print(classification_report(y_test, y_test_pred, target_names=target_names))"
   ]
  },
  {
   "cell_type": "code",
   "execution_count": 39,
   "metadata": {},
   "outputs": [
    {
     "data": {
      "text/plain": [
       "Text(0.5, 1.0, 'Accuracy Score: 0.85')"
      ]
     },
     "execution_count": 39,
     "metadata": {},
     "output_type": "execute_result"
    },
    {
     "data": {
      "image/png": "[encoded data removed]",
      "text/plain": [
       "<Figure size 648x648 with 2 Axes>"
      ]
     },
     "metadata": {
      "needs_background": "light"
     },
     "output_type": "display_data"
    }
   ],
   "source": [
    "cm = confusion_matrix(y_test, y_test_pred)\n",
    "plt.figure(figsize=(9,9))\n",
    "sns.heatmap(cm, annot=True, fmt=\".2f\", linewidths=.5, square = True)\n",
    "plt.ylabel('Actual label')\n",
    "plt.xlabel('Predicted label')\n",
    "all_sample_title = 'Accuracy Score: {0}'.format(test_mean_acc)\n",
    "plt.title(all_sample_title, size = 15)"
   ]
  },
  {
   "cell_type": "code",
   "execution_count": 40,
   "metadata": {},
   "outputs": [
    {
     "data": {
      "image/png": "[encoded data removed]",
      "text/plain": [
       "<Figure size 2400x900 with 1 Axes>"
      ]
     },
     "metadata": {
      "needs_background": "light"
     },
     "output_type": "display_data"
    }
   ],
   "source": [
    "feature_importance = traditional_feature_importance(logistic_regression, x_train, figsize=(8, 3), title=\"Logistic Regression Feature Importance\")"
   ]
  },
  {
   "cell_type": "markdown",
   "metadata": {},
   "source": [
    "Logistic Regression outputs the log odds of $Y = 1$. This means that to extract the actual coeffients we need to apply exponetial to the coefficient we got. \n",
    "\n"
   ]
  },
  {
   "cell_type": "code",
   "execution_count": 41,
   "metadata": {},
   "outputs": [
    {
     "data": {
      "image/png": "[encoded data removed]",
      "text/plain": [
       "<Figure size 2400x900 with 1 Axes>"
      ]
     },
     "metadata": {
      "needs_background": "light"
     },
     "output_type": "display_data"
    }
   ],
   "source": [
    "feature_importance = traditional_feature_importance(logistic_regression, x_train, apply_ln=True, figsize=(8, 3), title=\"Logistic Regression Feature Importance\")"
   ]
  },
  {
   "cell_type": "markdown",
   "metadata": {},
   "source": [
    "##### Build the `IMPROVED` neural network model on the train data."
   ]
  },
  {
   "cell_type": "code",
   "execution_count": 42,
   "metadata": {},
   "outputs": [
    {
     "name": "stderr",
     "output_type": "stream",
     "text": [
      "/opt/anaconda3/lib/python3.8/site-packages/sklearn/neural_network/_multilayer_perceptron.py:684: ConvergenceWarning: Stochastic Optimizer: Maximum iterations (200) reached and the optimization hasn't converged yet.\n",
      "  warnings.warn(\n"
     ]
    },
    {
     "data": {
      "text/html": [
       "<style>#sk-container-id-2 {color: black;background-color: white;}#sk-container-id-2 pre{padding: 0;}#sk-container-id-2 div.sk-toggleable {background-color: white;}#sk-container-id-2 label.sk-toggleable__label {cursor: pointer;display: block;width: 100%;margin-bottom: 0;padding: 0.3em;box-sizing: border-box;text-align: center;}#sk-container-id-2 label.sk-toggleable__label-arrow:before {content: \"▸\";float: left;margin-right: 0.25em;color: #696969;}#sk-container-id-2 label.sk-toggleable__label-arrow:hover:before {color: black;}#sk-container-id-2 div.sk-estimator:hover label.sk-toggleable__label-arrow:before {color: black;}#sk-container-id-2 div.sk-toggleable__content {max-height: 0;max-width: 0;overflow: hidden;text-align: left;background-color: #f0f8ff;}#sk-container-id-2 div.sk-toggleable__content pre {margin: 0.2em;color: black;border-radius: 0.25em;background-color: #f0f8ff;}#sk-container-id-2 input.sk-toggleable__control:checked~div.sk-toggleable__content {max-height: 200px;max-width: 100%;overflow: auto;}#sk-container-id-2 input.sk-toggleable__control:checked~label.sk-toggleable__label-arrow:before {content: \"▾\";}#sk-container-id-2 div.sk-estimator input.sk-toggleable__control:checked~label.sk-toggleable__label {background-color: #d4ebff;}#sk-container-id-2 div.sk-label input.sk-toggleable__control:checked~label.sk-toggleable__label {background-color: #d4ebff;}#sk-container-id-2 input.sk-hidden--visually {border: 0;clip: rect(1px 1px 1px 1px);clip: rect(1px, 1px, 1px, 1px);height: 1px;margin: -1px;overflow: hidden;padding: 0;position: absolute;width: 1px;}#sk-container-id-2 div.sk-estimator {font-family: monospace;background-color: #f0f8ff;border: 1px dotted black;border-radius: 0.25em;box-sizing: border-box;margin-bottom: 0.5em;}#sk-container-id-2 div.sk-estimator:hover {background-color: #d4ebff;}#sk-container-id-2 div.sk-parallel-item::after {content: \"\";width: 100%;border-bottom: 1px solid gray;flex-grow: 1;}#sk-container-id-2 div.sk-label:hover label.sk-toggleable__label {background-color: #d4ebff;}#sk-container-id-2 div.sk-serial::before {content: \"\";position: absolute;border-left: 1px solid gray;box-sizing: border-box;top: 0;bottom: 0;left: 50%;z-index: 0;}#sk-container-id-2 div.sk-serial {display: flex;flex-direction: column;align-items: center;background-color: white;padding-right: 0.2em;padding-left: 0.2em;position: relative;}#sk-container-id-2 div.sk-item {position: relative;z-index: 1;}#sk-container-id-2 div.sk-parallel {display: flex;align-items: stretch;justify-content: center;background-color: white;position: relative;}#sk-container-id-2 div.sk-item::before, #sk-container-id-2 div.sk-parallel-item::before {content: \"\";position: absolute;border-left: 1px solid gray;box-sizing: border-box;top: 0;bottom: 0;left: 50%;z-index: -1;}#sk-container-id-2 div.sk-parallel-item {display: flex;flex-direction: column;z-index: 1;position: relative;background-color: white;}#sk-container-id-2 div.sk-parallel-item:first-child::after {align-self: flex-end;width: 50%;}#sk-container-id-2 div.sk-parallel-item:last-child::after {align-self: flex-start;width: 50%;}#sk-container-id-2 div.sk-parallel-item:only-child::after {width: 0;}#sk-container-id-2 div.sk-dashed-wrapped {border: 1px dashed gray;margin: 0 0.4em 0.5em 0.4em;box-sizing: border-box;padding-bottom: 0.4em;background-color: white;}#sk-container-id-2 div.sk-label label {font-family: monospace;font-weight: bold;display: inline-block;line-height: 1.2em;}#sk-container-id-2 div.sk-label-container {text-align: center;}#sk-container-id-2 div.sk-container {/* jupyter's `normalize.less` sets `[hidden] { display: none; }` but bootstrap.min.css set `[hidden] { display: none !important; }` so we also need the `!important` here to be able to override the default hidden behavior on the sphinx rendered scikit-learn.org. See: https://github.com/scikit-learn/scikit-learn/issues/21755 */display: inline-block !important;position: relative;}#sk-container-id-2 div.sk-text-repr-fallback {display: none;}</style><div id=\"sk-container-id-2\" class=\"sk-top-container\"><div class=\"sk-text-repr-fallback\"><pre>MLPClassifier(alpha=0.001, batch_size=64,\n",
       "              hidden_layer_sizes=(16, 32, 32, 64, 128),\n",
       "              learning_rate_init=0.0001, random_state=0)</pre><b>In a Jupyter environment, please rerun this cell to show the HTML representation or trust the notebook. <br />On GitHub, the HTML representation is unable to render, please try loading this page with nbviewer.org.</b></div><div class=\"sk-container\" hidden><div class=\"sk-item\"><div class=\"sk-estimator sk-toggleable\"><input class=\"sk-toggleable__control sk-hidden--visually\" id=\"sk-estimator-id-2\" type=\"checkbox\" checked><label for=\"sk-estimator-id-2\" class=\"sk-toggleable__label sk-toggleable__label-arrow\">MLPClassifier</label><div class=\"sk-toggleable__content\"><pre>MLPClassifier(alpha=0.001, batch_size=64,\n",
       "              hidden_layer_sizes=(16, 32, 32, 64, 128),\n",
       "              learning_rate_init=0.0001, random_state=0)</pre></div></div></div></div></div>"
      ],
      "text/plain": [
       "MLPClassifier(alpha=0.001, batch_size=64,\n",
       "              hidden_layer_sizes=(16, 32, 32, 64, 128),\n",
       "              learning_rate_init=0.0001, random_state=0)"
      ]
     },
     "execution_count": 42,
     "metadata": {},
     "output_type": "execute_result"
    }
   ],
   "source": [
    "ann = MLPClassifier(\n",
    "    hidden_layer_sizes=(16, 32, 32, 64, 128),\n",
    "    activation='relu',\n",
    "    solver='adam',\n",
    "    alpha=0.001,\n",
    "    batch_size=64,\n",
    "    learning_rate_init=0.0001,\n",
    "    n_iter_no_change=10,\n",
    "    random_state=0\n",
    ")\n",
    "ann.fit(x_train, y_train)"
   ]
  },
  {
   "cell_type": "code",
   "execution_count": 43,
   "metadata": {},
   "outputs": [],
   "source": [
    "train_mean_acc = ann.score(x_train, y_train, sample_weight=None)\n",
    "test_mean_acc = ann.score(x_test, y_test, sample_weight=None)"
   ]
  },
  {
   "cell_type": "code",
   "execution_count": 44,
   "metadata": {},
   "outputs": [
    {
     "name": "stdout",
     "output_type": "stream",
     "text": [
      "\u001b[1m› \u001b[4mPerformance of Baseline Artificial Neural Network Model\u001b[0m\n",
      "    The train Mean Accuracy for Artificial Neural Network is 0.8945147679324894\n",
      "    The test Mean Accuracy for Artificial Neural Network is 0.7666666666666667\n"
     ]
    }
   ],
   "source": [
    "styled_print(\"Performance of Baseline Artificial Neural Network Model\", header=True)\n",
    "styled_print(f\"The train Mean Accuracy for Artificial Neural Network is {train_mean_acc}\")\n",
    "styled_print(f\"The test Mean Accuracy for Artificial Neural Network is {test_mean_acc}\")"
   ]
  },
  {
   "cell_type": "code",
   "execution_count": 45,
   "metadata": {},
   "outputs": [],
   "source": [
    "y_train_pred = ann.predict(x_train)\n",
    "y_test_pred = ann.predict(x_test)"
   ]
  },
  {
   "cell_type": "code",
   "execution_count": 46,
   "metadata": {},
   "outputs": [],
   "source": [
    "train_mae = mean_absolute_error(y_train, y_train_pred)\n",
    "test_mae = mean_absolute_error(y_test, y_test_pred)"
   ]
  },
  {
   "cell_type": "code",
   "execution_count": 47,
   "metadata": {},
   "outputs": [
    {
     "name": "stdout",
     "output_type": "stream",
     "text": [
      "\u001b[1m› \u001b[4mPerformance of Baseline Artificial Neural Network Model\u001b[0m\n",
      "    The train Mean Absolute Error for Artificial Neural Network is 0.10548523206751055\n",
      "    The test Mean Absolute Error for Artificial Neural Network is 0.23333333333333334\n"
     ]
    }
   ],
   "source": [
    "styled_print(\"Performance of Baseline Artificial Neural Network Model\", header=True)\n",
    "styled_print(f\"The train Mean Absolute Error for Artificial Neural Network is {train_mae}\")\n",
    "styled_print(f\"The test Mean Absolute Error for Artificial Neural Network is {test_mae}\")"
   ]
  },
  {
   "cell_type": "code",
   "execution_count": 48,
   "metadata": {},
   "outputs": [
    {
     "name": "stdout",
     "output_type": "stream",
     "text": [
      "                  precision    recall  f1-score   support\n",
      "\n",
      "No Heart Disease       0.89      0.92      0.90       128\n",
      "   Heart Disease       0.90      0.86      0.88       109\n",
      "\n",
      "        accuracy                           0.89       237\n",
      "       macro avg       0.90      0.89      0.89       237\n",
      "    weighted avg       0.89      0.89      0.89       237\n",
      "\n"
     ]
    }
   ],
   "source": [
    "target_names = ['No Heart Disease', 'Heart Disease']\n",
    "y_train_pred = ann.predict(x_train)\n",
    "print(classification_report(y_train, y_train_pred, target_names=target_names))"
   ]
  },
  {
   "cell_type": "code",
   "execution_count": 49,
   "metadata": {},
   "outputs": [
    {
     "name": "stdout",
     "output_type": "stream",
     "text": [
      "                  precision    recall  f1-score   support\n",
      "\n",
      "No Heart Disease       0.72      0.91      0.81        32\n",
      "   Heart Disease       0.85      0.61      0.71        28\n",
      "\n",
      "        accuracy                           0.77        60\n",
      "       macro avg       0.79      0.76      0.76        60\n",
      "    weighted avg       0.78      0.77      0.76        60\n",
      "\n"
     ]
    }
   ],
   "source": [
    "y_test_pred = ann.predict(x_test)\n",
    "print(classification_report(y_test, y_test_pred, target_names=target_names))"
   ]
  },
  {
   "cell_type": "code",
   "execution_count": 50,
   "metadata": {},
   "outputs": [
    {
     "data": {
      "text/plain": [
       "Text(0.5, 1.0, 'Accuracy Score: 0.7666666666666667')"
      ]
     },
     "execution_count": 50,
     "metadata": {},
     "output_type": "execute_result"
    },
    {
     "data": {
      "image/png": "[encoded data removed]",
      "text/plain": [
       "<Figure size 648x648 with 2 Axes>"
      ]
     },
     "metadata": {
      "needs_background": "light"
     },
     "output_type": "display_data"
    }
   ],
   "source": [
    "cm = confusion_matrix(y_test, y_test_pred)\n",
    "plt.figure(figsize=(9,9))\n",
    "sns.heatmap(cm, annot=True, fmt=\".2f\", linewidths=.5, square = True)\n",
    "plt.ylabel('Actual label')\n",
    "plt.xlabel('Predicted label')\n",
    "all_sample_title = 'Accuracy Score: {0}'.format(test_mean_acc)\n",
    "plt.title(all_sample_title, size = 15)"
   ]
  },
  {
   "attachments": {},
   "cell_type": "markdown",
   "metadata": {},
   "source": [
    "As we can see that the neural network model is not able to beat the performance of Logistic Regression. These results are also overfitting because the performance on testing set is very poor as compared to performance on training set. "
   ]
  },
  {
   "attachments": {},
   "cell_type": "markdown",
   "metadata": {},
   "source": [
    "Let's use GridSearch to find the right set of hyperparameters for Neural Network."
   ]
  },
  {
   "cell_type": "code",
   "execution_count": 51,
   "metadata": {},
   "outputs": [
    {
     "name": "stderr",
     "output_type": "stream",
     "text": [
      "/opt/anaconda3/lib/python3.8/site-packages/sklearn/neural_network/_multilayer_perceptron.py:684: ConvergenceWarning: Stochastic Optimizer: Maximum iterations (75) reached and the optimization hasn't converged yet.\n",
      "  warnings.warn(\n"
     ]
    },
    {
     "data": {
      "text/html": [
       "<style>#sk-container-id-3 {color: black;background-color: white;}#sk-container-id-3 pre{padding: 0;}#sk-container-id-3 div.sk-toggleable {background-color: white;}#sk-container-id-3 label.sk-toggleable__label {cursor: pointer;display: block;width: 100%;margin-bottom: 0;padding: 0.3em;box-sizing: border-box;text-align: center;}#sk-container-id-3 label.sk-toggleable__label-arrow:before {content: \"▸\";float: left;margin-right: 0.25em;color: #696969;}#sk-container-id-3 label.sk-toggleable__label-arrow:hover:before {color: black;}#sk-container-id-3 div.sk-estimator:hover label.sk-toggleable__label-arrow:before {color: black;}#sk-container-id-3 div.sk-toggleable__content {max-height: 0;max-width: 0;overflow: hidden;text-align: left;background-color: #f0f8ff;}#sk-container-id-3 div.sk-toggleable__content pre {margin: 0.2em;color: black;border-radius: 0.25em;background-color: #f0f8ff;}#sk-container-id-3 input.sk-toggleable__control:checked~div.sk-toggleable__content {max-height: 200px;max-width: 100%;overflow: auto;}#sk-container-id-3 input.sk-toggleable__control:checked~label.sk-toggleable__label-arrow:before {content: \"▾\";}#sk-container-id-3 div.sk-estimator input.sk-toggleable__control:checked~label.sk-toggleable__label {background-color: #d4ebff;}#sk-container-id-3 div.sk-label input.sk-toggleable__control:checked~label.sk-toggleable__label {background-color: #d4ebff;}#sk-container-id-3 input.sk-hidden--visually {border: 0;clip: rect(1px 1px 1px 1px);clip: rect(1px, 1px, 1px, 1px);height: 1px;margin: -1px;overflow: hidden;padding: 0;position: absolute;width: 1px;}#sk-container-id-3 div.sk-estimator {font-family: monospace;background-color: #f0f8ff;border: 1px dotted black;border-radius: 0.25em;box-sizing: border-box;margin-bottom: 0.5em;}#sk-container-id-3 div.sk-estimator:hover {background-color: #d4ebff;}#sk-container-id-3 div.sk-parallel-item::after {content: \"\";width: 100%;border-bottom: 1px solid gray;flex-grow: 1;}#sk-container-id-3 div.sk-label:hover label.sk-toggleable__label {background-color: #d4ebff;}#sk-container-id-3 div.sk-serial::before {content: \"\";position: absolute;border-left: 1px solid gray;box-sizing: border-box;top: 0;bottom: 0;left: 50%;z-index: 0;}#sk-container-id-3 div.sk-serial {display: flex;flex-direction: column;align-items: center;background-color: white;padding-right: 0.2em;padding-left: 0.2em;position: relative;}#sk-container-id-3 div.sk-item {position: relative;z-index: 1;}#sk-container-id-3 div.sk-parallel {display: flex;align-items: stretch;justify-content: center;background-color: white;position: relative;}#sk-container-id-3 div.sk-item::before, #sk-container-id-3 div.sk-parallel-item::before {content: \"\";position: absolute;border-left: 1px solid gray;box-sizing: border-box;top: 0;bottom: 0;left: 50%;z-index: -1;}#sk-container-id-3 div.sk-parallel-item {display: flex;flex-direction: column;z-index: 1;position: relative;background-color: white;}#sk-container-id-3 div.sk-parallel-item:first-child::after {align-self: flex-end;width: 50%;}#sk-container-id-3 div.sk-parallel-item:last-child::after {align-self: flex-start;width: 50%;}#sk-container-id-3 div.sk-parallel-item:only-child::after {width: 0;}#sk-container-id-3 div.sk-dashed-wrapped {border: 1px dashed gray;margin: 0 0.4em 0.5em 0.4em;box-sizing: border-box;padding-bottom: 0.4em;background-color: white;}#sk-container-id-3 div.sk-label label {font-family: monospace;font-weight: bold;display: inline-block;line-height: 1.2em;}#sk-container-id-3 div.sk-label-container {text-align: center;}#sk-container-id-3 div.sk-container {/* jupyter's `normalize.less` sets `[hidden] { display: none; }` but bootstrap.min.css set `[hidden] { display: none !important; }` so we also need the `!important` here to be able to override the default hidden behavior on the sphinx rendered scikit-learn.org. See: https://github.com/scikit-learn/scikit-learn/issues/21755 */display: inline-block !important;position: relative;}#sk-container-id-3 div.sk-text-repr-fallback {display: none;}</style><div id=\"sk-container-id-3\" class=\"sk-top-container\"><div class=\"sk-text-repr-fallback\"><pre>GridSearchCV(cv=5, estimator=MLPClassifier(random_state=0), n_jobs=-1,\n",
       "             param_grid={&#x27;activation&#x27;: [&#x27;tanh&#x27;, &#x27;relu&#x27;],\n",
       "                         &#x27;alpha&#x27;: [0.0, 0.01, 0.001, 0.0001, 0.05, 1.0],\n",
       "                         &#x27;batch_size&#x27;: [32, 64],\n",
       "                         &#x27;hidden_layer_sizes&#x27;: [(100,), (16, 32), (16, 32, 64),\n",
       "                                                (16, 32, 32, 64, 128),\n",
       "                                                (16, 32, 32, 64, 64, 128),\n",
       "                                                (16, 32, 32, 64, 64, 128, 128)],\n",
       "                         &#x27;learning_rate&#x27;: [&#x27;constant&#x27;, &#x27;adaptive&#x27;],\n",
       "                         &#x27;learning_rate_init&#x27;: [0.001, 0.0001],\n",
       "                         &#x27;max_iter&#x27;: [25, 50, 75, 100, 125, 150, 175, 200, 250,\n",
       "                                      300],\n",
       "                         &#x27;solver&#x27;: [&#x27;sgd&#x27;, &#x27;adam&#x27;]})</pre><b>In a Jupyter environment, please rerun this cell to show the HTML representation or trust the notebook. <br />On GitHub, the HTML representation is unable to render, please try loading this page with nbviewer.org.</b></div><div class=\"sk-container\" hidden><div class=\"sk-item sk-dashed-wrapped\"><div class=\"sk-label-container\"><div class=\"sk-label sk-toggleable\"><input class=\"sk-toggleable__control sk-hidden--visually\" id=\"sk-estimator-id-3\" type=\"checkbox\" ><label for=\"sk-estimator-id-3\" class=\"sk-toggleable__label sk-toggleable__label-arrow\">GridSearchCV</label><div class=\"sk-toggleable__content\"><pre>GridSearchCV(cv=5, estimator=MLPClassifier(random_state=0), n_jobs=-1,\n",
       "             param_grid={&#x27;activation&#x27;: [&#x27;tanh&#x27;, &#x27;relu&#x27;],\n",
       "                         &#x27;alpha&#x27;: [0.0, 0.01, 0.001, 0.0001, 0.05, 1.0],\n",
       "                         &#x27;batch_size&#x27;: [32, 64],\n",
       "                         &#x27;hidden_layer_sizes&#x27;: [(100,), (16, 32), (16, 32, 64),\n",
       "                                                (16, 32, 32, 64, 128),\n",
       "                                                (16, 32, 32, 64, 64, 128),\n",
       "                                                (16, 32, 32, 64, 64, 128, 128)],\n",
       "                         &#x27;learning_rate&#x27;: [&#x27;constant&#x27;, &#x27;adaptive&#x27;],\n",
       "                         &#x27;learning_rate_init&#x27;: [0.001, 0.0001],\n",
       "                         &#x27;max_iter&#x27;: [25, 50, 75, 100, 125, 150, 175, 200, 250,\n",
       "                                      300],\n",
       "                         &#x27;solver&#x27;: [&#x27;sgd&#x27;, &#x27;adam&#x27;]})</pre></div></div></div><div class=\"sk-parallel\"><div class=\"sk-parallel-item\"><div class=\"sk-item\"><div class=\"sk-label-container\"><div class=\"sk-label sk-toggleable\"><input class=\"sk-toggleable__control sk-hidden--visually\" id=\"sk-estimator-id-4\" type=\"checkbox\" ><label for=\"sk-estimator-id-4\" class=\"sk-toggleable__label sk-toggleable__label-arrow\">estimator: MLPClassifier</label><div class=\"sk-toggleable__content\"><pre>MLPClassifier(random_state=0)</pre></div></div></div><div class=\"sk-serial\"><div class=\"sk-item\"><div class=\"sk-estimator sk-toggleable\"><input class=\"sk-toggleable__control sk-hidden--visually\" id=\"sk-estimator-id-5\" type=\"checkbox\" ><label for=\"sk-estimator-id-5\" class=\"sk-toggleable__label sk-toggleable__label-arrow\">MLPClassifier</label><div class=\"sk-toggleable__content\"><pre>MLPClassifier(random_state=0)</pre></div></div></div></div></div></div></div></div></div></div>"
      ],
      "text/plain": [
       "GridSearchCV(cv=5, estimator=MLPClassifier(random_state=0), n_jobs=-1,\n",
       "             param_grid={'activation': ['tanh', 'relu'],\n",
       "                         'alpha': [0.0, 0.01, 0.001, 0.0001, 0.05, 1.0],\n",
       "                         'batch_size': [32, 64],\n",
       "                         'hidden_layer_sizes': [(100,), (16, 32), (16, 32, 64),\n",
       "                                                (16, 32, 32, 64, 128),\n",
       "                                                (16, 32, 32, 64, 64, 128),\n",
       "                                                (16, 32, 32, 64, 64, 128, 128)],\n",
       "                         'learning_rate': ['constant', 'adaptive'],\n",
       "                         'learning_rate_init': [0.001, 0.0001],\n",
       "                         'max_iter': [25, 50, 75, 100, 125, 150, 175, 200, 250,\n",
       "                                      300],\n",
       "                         'solver': ['sgd', 'adam']})"
      ]
     },
     "execution_count": 51,
     "metadata": {},
     "output_type": "execute_result"
    }
   ],
   "source": [
    "ann = MLPClassifier(random_state=0)\n",
    "parameter_space = {\n",
    "    'hidden_layer_sizes': [\n",
    "        (100,),\n",
    "        (16, 32),\n",
    "        (16, 32, 64),\n",
    "        (16, 32, 32, 64, 128),\n",
    "        (16, 32, 32, 64, 64, 128),\n",
    "        (16, 32, 32, 64, 64, 128, 128),\n",
    "    ],\n",
    "    'activation': ['tanh', 'relu'],\n",
    "    'solver': ['sgd', 'adam'],\n",
    "    'alpha': [0.0, 0.01, 0.001, 0.0001, 0.05, 1.0],\n",
    "    'learning_rate': ['constant','adaptive'],\n",
    "    'max_iter': [25, 50, 75, 100, 125, 150, 175, 200, 250, 300],\n",
    "    'batch_size': [32, 64],\n",
    "    'learning_rate_init': [0.001, 0.0001]\n",
    "}\n",
    "grid = GridSearchCV(ann, parameter_space, n_jobs=-1, cv=5)\n",
    "grid.fit(x_train, y_train)"
   ]
  },
  {
   "cell_type": "code",
   "execution_count": 72,
   "metadata": {},
   "outputs": [],
   "source": [
    "# means = grid.cv_results_['mean_test_score']\n",
    "# stds = grid.cv_results_['std_test_score']\n",
    "# for mean, std, params in zip(means, stds, grid.cv_results_['params']):\n",
    "#     print(\"%0.3f (+/-%0.03f) for %r\" % (mean, std * 2, params))"
   ]
  },
  {
   "cell_type": "code",
   "execution_count": 53,
   "metadata": {},
   "outputs": [
    {
     "name": "stdout",
     "output_type": "stream",
     "text": [
      "Best parameters found:\n",
      " {'activation': 'tanh', 'alpha': 1.0, 'batch_size': 32, 'hidden_layer_sizes': (16, 32, 32, 64, 128), 'learning_rate': 'constant', 'learning_rate_init': 0.001, 'max_iter': 75, 'solver': 'sgd'}\n"
     ]
    }
   ],
   "source": [
    "print('Best parameters found:\\n', grid.best_params_)"
   ]
  },
  {
   "cell_type": "code",
   "execution_count": 63,
   "metadata": {},
   "outputs": [
    {
     "name": "stderr",
     "output_type": "stream",
     "text": [
      "/opt/anaconda3/lib/python3.8/site-packages/sklearn/neural_network/_multilayer_perceptron.py:684: ConvergenceWarning: Stochastic Optimizer: Maximum iterations (75) reached and the optimization hasn't converged yet.\n",
      "  warnings.warn(\n"
     ]
    },
    {
     "data": {
      "text/html": [
       "<style>#sk-container-id-5 {color: black;background-color: white;}#sk-container-id-5 pre{padding: 0;}#sk-container-id-5 div.sk-toggleable {background-color: white;}#sk-container-id-5 label.sk-toggleable__label {cursor: pointer;display: block;width: 100%;margin-bottom: 0;padding: 0.3em;box-sizing: border-box;text-align: center;}#sk-container-id-5 label.sk-toggleable__label-arrow:before {content: \"▸\";float: left;margin-right: 0.25em;color: #696969;}#sk-container-id-5 label.sk-toggleable__label-arrow:hover:before {color: black;}#sk-container-id-5 div.sk-estimator:hover label.sk-toggleable__label-arrow:before {color: black;}#sk-container-id-5 div.sk-toggleable__content {max-height: 0;max-width: 0;overflow: hidden;text-align: left;background-color: #f0f8ff;}#sk-container-id-5 div.sk-toggleable__content pre {margin: 0.2em;color: black;border-radius: 0.25em;background-color: #f0f8ff;}#sk-container-id-5 input.sk-toggleable__control:checked~div.sk-toggleable__content {max-height: 200px;max-width: 100%;overflow: auto;}#sk-container-id-5 input.sk-toggleable__control:checked~label.sk-toggleable__label-arrow:before {content: \"▾\";}#sk-container-id-5 div.sk-estimator input.sk-toggleable__control:checked~label.sk-toggleable__label {background-color: #d4ebff;}#sk-container-id-5 div.sk-label input.sk-toggleable__control:checked~label.sk-toggleable__label {background-color: #d4ebff;}#sk-container-id-5 input.sk-hidden--visually {border: 0;clip: rect(1px 1px 1px 1px);clip: rect(1px, 1px, 1px, 1px);height: 1px;margin: -1px;overflow: hidden;padding: 0;position: absolute;width: 1px;}#sk-container-id-5 div.sk-estimator {font-family: monospace;background-color: #f0f8ff;border: 1px dotted black;border-radius: 0.25em;box-sizing: border-box;margin-bottom: 0.5em;}#sk-container-id-5 div.sk-estimator:hover {background-color: #d4ebff;}#sk-container-id-5 div.sk-parallel-item::after {content: \"\";width: 100%;border-bottom: 1px solid gray;flex-grow: 1;}#sk-container-id-5 div.sk-label:hover label.sk-toggleable__label {background-color: #d4ebff;}#sk-container-id-5 div.sk-serial::before {content: \"\";position: absolute;border-left: 1px solid gray;box-sizing: border-box;top: 0;bottom: 0;left: 50%;z-index: 0;}#sk-container-id-5 div.sk-serial {display: flex;flex-direction: column;align-items: center;background-color: white;padding-right: 0.2em;padding-left: 0.2em;position: relative;}#sk-container-id-5 div.sk-item {position: relative;z-index: 1;}#sk-container-id-5 div.sk-parallel {display: flex;align-items: stretch;justify-content: center;background-color: white;position: relative;}#sk-container-id-5 div.sk-item::before, #sk-container-id-5 div.sk-parallel-item::before {content: \"\";position: absolute;border-left: 1px solid gray;box-sizing: border-box;top: 0;bottom: 0;left: 50%;z-index: -1;}#sk-container-id-5 div.sk-parallel-item {display: flex;flex-direction: column;z-index: 1;position: relative;background-color: white;}#sk-container-id-5 div.sk-parallel-item:first-child::after {align-self: flex-end;width: 50%;}#sk-container-id-5 div.sk-parallel-item:last-child::after {align-self: flex-start;width: 50%;}#sk-container-id-5 div.sk-parallel-item:only-child::after {width: 0;}#sk-container-id-5 div.sk-dashed-wrapped {border: 1px dashed gray;margin: 0 0.4em 0.5em 0.4em;box-sizing: border-box;padding-bottom: 0.4em;background-color: white;}#sk-container-id-5 div.sk-label label {font-family: monospace;font-weight: bold;display: inline-block;line-height: 1.2em;}#sk-container-id-5 div.sk-label-container {text-align: center;}#sk-container-id-5 div.sk-container {/* jupyter's `normalize.less` sets `[hidden] { display: none; }` but bootstrap.min.css set `[hidden] { display: none !important; }` so we also need the `!important` here to be able to override the default hidden behavior on the sphinx rendered scikit-learn.org. See: https://github.com/scikit-learn/scikit-learn/issues/21755 */display: inline-block !important;position: relative;}#sk-container-id-5 div.sk-text-repr-fallback {display: none;}</style><div id=\"sk-container-id-5\" class=\"sk-top-container\"><div class=\"sk-text-repr-fallback\"><pre>MLPClassifier(activation=&#x27;tanh&#x27;, alpha=1.0, batch_size=32,\n",
       "              hidden_layer_sizes=(16, 32, 32, 64, 128), max_iter=75,\n",
       "              random_state=0, solver=&#x27;sgd&#x27;)</pre><b>In a Jupyter environment, please rerun this cell to show the HTML representation or trust the notebook. <br />On GitHub, the HTML representation is unable to render, please try loading this page with nbviewer.org.</b></div><div class=\"sk-container\" hidden><div class=\"sk-item\"><div class=\"sk-estimator sk-toggleable\"><input class=\"sk-toggleable__control sk-hidden--visually\" id=\"sk-estimator-id-7\" type=\"checkbox\" checked><label for=\"sk-estimator-id-7\" class=\"sk-toggleable__label sk-toggleable__label-arrow\">MLPClassifier</label><div class=\"sk-toggleable__content\"><pre>MLPClassifier(activation=&#x27;tanh&#x27;, alpha=1.0, batch_size=32,\n",
       "              hidden_layer_sizes=(16, 32, 32, 64, 128), max_iter=75,\n",
       "              random_state=0, solver=&#x27;sgd&#x27;)</pre></div></div></div></div></div>"
      ],
      "text/plain": [
       "MLPClassifier(activation='tanh', alpha=1.0, batch_size=32,\n",
       "              hidden_layer_sizes=(16, 32, 32, 64, 128), max_iter=75,\n",
       "              random_state=0, solver='sgd')"
      ]
     },
     "execution_count": 63,
     "metadata": {},
     "output_type": "execute_result"
    }
   ],
   "source": [
    "ann = MLPClassifier(\n",
    "    activation='tanh', \n",
    "    alpha=1.0,\n",
    "    batch_size=32,\n",
    "    hidden_layer_sizes=(16, 32, 32, 64, 128),\n",
    "    learning_rate='constant', \n",
    "    max_iter=75, \n",
    "    solver= 'sgd',\n",
    "    learning_rate_init=0.001,\n",
    "    random_state=0\n",
    ")\n",
    "ann.fit(x_train, y_train)"
   ]
  },
  {
   "cell_type": "code",
   "execution_count": 64,
   "metadata": {},
   "outputs": [],
   "source": [
    "train_mean_acc = ann.score(x_train, y_train, sample_weight=None)\n",
    "test_mean_acc = ann.score(x_test, y_test, sample_weight=None)"
   ]
  },
  {
   "cell_type": "code",
   "execution_count": 65,
   "metadata": {},
   "outputs": [
    {
     "name": "stdout",
     "output_type": "stream",
     "text": [
      "\u001b[1m› \u001b[4mPerformance of Baseline Artificial Neural Network Model\u001b[0m\n",
      "    The train Mean Accuracy for Artificial Neural Network is 0.8565400843881856\n",
      "    The test Mean Accuracy for Artificial Neural Network is 0.85\n"
     ]
    }
   ],
   "source": [
    "styled_print(\"Performance of Baseline Artificial Neural Network Model\", header=True)\n",
    "styled_print(f\"The train Mean Accuracy for Artificial Neural Network is {train_mean_acc}\")\n",
    "styled_print(f\"The test Mean Accuracy for Artificial Neural Network is {test_mean_acc}\")"
   ]
  },
  {
   "cell_type": "code",
   "execution_count": 66,
   "metadata": {},
   "outputs": [],
   "source": [
    "y_train_pred = ann.predict(x_train)\n",
    "y_test_pred = ann.predict(x_test)"
   ]
  },
  {
   "cell_type": "code",
   "execution_count": 67,
   "metadata": {},
   "outputs": [],
   "source": [
    "train_mae = mean_absolute_error(y_train, y_train_pred)\n",
    "test_mae = mean_absolute_error(y_test, y_test_pred)"
   ]
  },
  {
   "cell_type": "code",
   "execution_count": 68,
   "metadata": {},
   "outputs": [
    {
     "name": "stdout",
     "output_type": "stream",
     "text": [
      "\u001b[1m› \u001b[4mPerformance of Baseline Artificial Neural Network Model\u001b[0m\n",
      "    The train Mean Absolute Error for Artificial Neural Network is 0.14345991561181434\n",
      "    The test Mean Absolute Error for Artificial Neural Network is 0.15\n"
     ]
    }
   ],
   "source": [
    "styled_print(\"Performance of Baseline Artificial Neural Network Model\", header=True)\n",
    "styled_print(f\"The train Mean Absolute Error for Artificial Neural Network is {train_mae}\")\n",
    "styled_print(f\"The test Mean Absolute Error for Artificial Neural Network is {test_mae}\")"
   ]
  },
  {
   "cell_type": "code",
   "execution_count": 69,
   "metadata": {},
   "outputs": [
    {
     "name": "stdout",
     "output_type": "stream",
     "text": [
      "                  precision    recall  f1-score   support\n",
      "\n",
      "No Heart Disease       0.86      0.88      0.87       128\n",
      "   Heart Disease       0.86      0.83      0.84       109\n",
      "\n",
      "        accuracy                           0.86       237\n",
      "       macro avg       0.86      0.85      0.86       237\n",
      "    weighted avg       0.86      0.86      0.86       237\n",
      "\n"
     ]
    }
   ],
   "source": [
    "target_names = ['No Heart Disease', 'Heart Disease']\n",
    "y_train_pred = ann.predict(x_train)\n",
    "print(classification_report(y_train, y_train_pred, target_names=target_names))"
   ]
  },
  {
   "cell_type": "code",
   "execution_count": 70,
   "metadata": {},
   "outputs": [
    {
     "name": "stdout",
     "output_type": "stream",
     "text": [
      "                  precision    recall  f1-score   support\n",
      "\n",
      "No Heart Disease       0.83      0.91      0.87        32\n",
      "   Heart Disease       0.88      0.79      0.83        28\n",
      "\n",
      "        accuracy                           0.85        60\n",
      "       macro avg       0.85      0.85      0.85        60\n",
      "    weighted avg       0.85      0.85      0.85        60\n",
      "\n"
     ]
    }
   ],
   "source": [
    "y_test_pred = ann.predict(x_test)\n",
    "print(classification_report(y_test, y_test_pred, target_names=target_names))"
   ]
  },
  {
   "cell_type": "code",
   "execution_count": 71,
   "metadata": {},
   "outputs": [
    {
     "data": {
      "text/plain": [
       "Text(0.5, 1.0, 'Accuracy Score: 0.85')"
      ]
     },
     "execution_count": 71,
     "metadata": {},
     "output_type": "execute_result"
    },
    {
     "data": {
      "image/png": "[encoded data removed]",
      "text/plain": [
       "<Figure size 648x648 with 2 Axes>"
      ]
     },
     "metadata": {
      "needs_background": "light"
     },
     "output_type": "display_data"
    }
   ],
   "source": [
    "cm = confusion_matrix(y_test, y_test_pred)\n",
    "plt.figure(figsize=(9,9))\n",
    "sns.heatmap(cm, annot=True, fmt=\".2f\", linewidths=.5, square = True)\n",
    "plt.ylabel('Actual label')\n",
    "plt.xlabel('Predicted label')\n",
    "all_sample_title = 'Accuracy Score: {0}'.format(test_mean_acc)\n",
    "plt.title(all_sample_title, size = 15)"
   ]
  },
  {
   "attachments": {},
   "cell_type": "markdown",
   "metadata": {},
   "source": [
    "**Observations**\n",
    "\n",
    "- Neural Network with GridSearch is able to outperform the Logistic Regression.\n",
    "- Training Neural Networks takes lots of time and lots of hyperparameter tunning. Without proper tunning Neural Network might not give us the best performance possible from it. "
   ]
  }
 ],
 "metadata": {
  "kernelspec": {
   "display_name": "base",
   "language": "python",
   "name": "python3"
  },
  "language_info": {
   "codemirror_mode": {
    "name": "ipython",
    "version": 3
   },
   "file_extension": ".py",
   "mimetype": "text/x-python",
   "name": "python",
   "nbconvert_exporter": "python",
   "pygments_lexer": "ipython3",
   "version": "3.8.8"
  },
  "orig_nbformat": 4
 },
 "nbformat": 4,
 "nbformat_minor": 2
}
