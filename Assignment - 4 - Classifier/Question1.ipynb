{
 "cells": [
  {
   "cell_type": "code",
   "execution_count": 1,
   "metadata": {},
   "outputs": [],
   "source": [
    "from sklearn.neural_network import MLPClassifier\n",
    "from sklearn.linear_model import Perceptron\n",
    "from numpy import heaviside\n",
    "import numpy as np\n",
    "from scipy.spatial import distance"
   ]
  },
  {
   "attachments": {},
   "cell_type": "markdown",
   "metadata": {},
   "source": [
    "# AND gate"
   ]
  },
  {
   "attachments": {},
   "cell_type": "markdown",
   "metadata": {},
   "source": [
    "An AND gate receives two inputs (a, b) and returns an output as follows:"
   ]
  },
  {
   "cell_type": "code",
   "execution_count": 2,
   "metadata": {},
   "outputs": [
    {
     "data": {
      "text/plain": [
       "'\\na|b|out\\n0|0|0\\n0|1|0\\n1|0|0\\n1|1|1\\n'"
      ]
     },
     "execution_count": 2,
     "metadata": {},
     "output_type": "execute_result"
    }
   ],
   "source": [
    "'''\n",
    "a|b|out\n",
    "0|0|0\n",
    "0|1|0\n",
    "1|0|0\n",
    "1|1|1\n",
    "'''"
   ]
  },
  {
   "attachments": {},
   "cell_type": "markdown",
   "metadata": {},
   "source": [
    "Imagining an activation function of the heavside step function `step(x, c)` where `1 if x >= c and 0 if x < c` and letting c = 0.5, one can begin to see how this activation function on a single neuron (perceptron) will allow for an ANN to compute the AND of two inputs. <br>\n",
    "By setting a function `f(x1, x2) = step(w1*x1+w2*x2+b, 0.5)` and solving for w1, w1, b with respect to the following<br>\n",
    "> `1 = step(w1*1+w2*1+b, 0.5)`<br>\n",
    "> `0 = step(w1*0+w2*1+b, 0.5)`<br>\n",
    "> `0 = step(w1*1+w2*0+b, 0.5)`<br>\n",
    "> `0 = step(w1*0+w2*0+b, 0.5)`<br>\n",
    "Then simplifying<br>\n",
    "> `1 = step(w1+w2+b, 0.5)`<br>\n",
    "> `0 = step(w2+b, 0.5)`<br>\n",
    "> `0 = step(w1+b, 0.5)`<br>\n",
    "> `0 = step(b, 0.5)`<br>\n",
    "It is clear that a solution to the system of equations has `w1=0.25, w2=0.25, b=0`<br>\n",
    "Also, it is clear that only a single neuron is necessary to create an AND gate"
   ]
  },
  {
   "attachments": {},
   "cell_type": "markdown",
   "metadata": {},
   "source": [
    "Visualization of problem"
   ]
  },
  {
   "cell_type": "code",
   "execution_count": 3,
   "metadata": {},
   "outputs": [
    {
     "data": {
      "image/png": "[encoded data removed]",
      "text/plain": [
       "<Figure size 432x288 with 1 Axes>"
      ]
     },
     "metadata": {
      "needs_background": "light"
     },
     "output_type": "display_data"
    }
   ],
   "source": [
    "import matplotlib.pyplot as plt\n",
    "\n",
    "x1 = [1,1,0,0] \n",
    "x2 = [1,0,1,0]\n",
    "plt.scatter(x1, x2)\n",
    "plt.scatter([x1[0]],[x2[0]])\n",
    "plt.title(\"INPUTS X1, X2\")\n",
    "plt.show()"
   ]
  },
  {
   "attachments": {},
   "cell_type": "markdown",
   "metadata": {},
   "source": [
    "AND function with single neuron, and proper weights"
   ]
  },
  {
   "cell_type": "code",
   "execution_count": 4,
   "metadata": {},
   "outputs": [
    {
     "name": "stdout",
     "output_type": "stream",
     "text": [
      "1 AND 1 |1\n",
      "1 AND 0 |0\n",
      "0 AND 1 |0\n",
      "0 AND 0 |0\n"
     ]
    }
   ],
   "source": [
    "import matplotlib.pyplot as plt\n",
    "def and_gate(x):\n",
    "    y = (0.25*x[0])+(0.25*x[1])\n",
    "    return 0 if y < 0.5 else 1\n",
    "X = [[1,1], [1,0], [0,1], [0,0]] \n",
    "y = [1, 0, 0, 0]\n",
    "for x in range(4):\n",
    "    print(X[x][0], \"AND\", X[x][1], \"|\",end=\"\")\n",
    "    print(and_gate(X[x]))\n",
    "plt.show()"
   ]
  },
  {
   "attachments": {},
   "cell_type": "markdown",
   "metadata": {},
   "source": [
    "But can a perceptron learn the AND function?\n",
    "Well it should be able to. This is because the AND function is linearly seperable.<br>\n",
    "\n",
    "A perceptron is a linear function that finds some hyperplane to seperate data into two classes. <br> \n",
    "\n",
    "In this case *hyperplane* is referring to the linear boundary which splits data into two categories represented by the line orthagonal to $t=x1*w1+x2*w2$ where t is the threshold for the step function, and t=0.5 <br>\n",
    "\n"
   ]
  },
  {
   "cell_type": "code",
   "execution_count": 11,
   "metadata": {},
   "outputs": [
    {
     "name": "stderr",
     "output_type": "stream",
     "text": [
      "100%|██████████| 25/25 [00:00<00:00, 1545.41it/s]"
     ]
    },
    {
     "name": "stdout",
     "output_type": "stream",
     "text": [
      "0.01 [1, 1]\n",
      "0.0 [0, 1]\n",
      "0.01 [1, 0]\n",
      "0.01 [1, 1]\n",
      "0.0 [0, 1]\n",
      "0.01 [1, 0]\n",
      "0.01 [1, 1]\n",
      "0.0 [0, 1]\n",
      "0.01 [1, 0]\n",
      "0.01 [1, 1]\n",
      "0.0 [0, 1]\n",
      "0.01 [1, 0]\n",
      "0.01 [1, 1]\n",
      "0.0 [0, 1]\n",
      "0.01 [1, 0]\n",
      "0.01 [1, 1]\n",
      "0.0 [0, 1]\n",
      "0.01 [1, 0]\n",
      "0.01 [1, 1]\n",
      "0.0 [0, 1]\n",
      "0.01 [1, 0]\n",
      "0.01 [1, 1]\n",
      "0.0 [0, 1]\n",
      "0.01 [1, 0]\n",
      "0.01 [1, 1]\n",
      "0.0 [0, 1]\n",
      "0.01 [1, 0]\n",
      "0.01 [1, 1]\n",
      "0.0 [0, 1]\n",
      "0.01 [1, 0]\n",
      "0.01 [1, 1]\n",
      "0.0 [0, 1]\n",
      "0.01 [1, 0]\n",
      "0.01 [1, 1]\n",
      "0.0 [0, 1]\n",
      "0.01 [1, 0]\n",
      "0.01 [1, 1]\n",
      "0.0 [0, 1]\n",
      "0.01 [1, 0]\n",
      "0.01 [1, 1]\n",
      "0.0 [0, 1]\n",
      "0.01 [1, 0]\n",
      "0.01 [1, 1]\n",
      "0.0 [0, 1]\n",
      "0.01 [1, 0]\n",
      "0.01 [1, 1]\n",
      "0.0 [0, 1]\n",
      "0.01 [1, 0]\n",
      "0.01 [1, 1]\n",
      "0.0 [0, 1]\n",
      "0.01 [1, 0]\n",
      "0.01 [1, 1]\n",
      "0.0 [0, 1]\n",
      "0.01 [1, 0]\n",
      "0.01 [1, 1]\n",
      "0.0 [0, 1]\n",
      "0.01 [1, 0]\n",
      "0.01 [1, 1]\n",
      "0.0 [0, 1]\n",
      "0.01 [1, 0]\n",
      "0.01 [1, 1]\n",
      "0.0 [0, 1]\n",
      "0.01 [1, 0]\n",
      "0.01 [1, 1]\n",
      "0.0 [0, 1]\n",
      "0.01 [1, 0]\n",
      "0.01 [1, 1]\n",
      "0.0 [0, 1]\n",
      "0.01 [1, 0]\n",
      "0.01 [1, 1]\n",
      "0.0 [0, 1]\n",
      "0.01 [1, 0]\n",
      "0.01 [1, 1]\n",
      "0.0 [0, 1]\n",
      "0.01 [1, 0]\n",
      "RESULTING EQUATION: y=0.49999999999999956*x1+0.49999999999999956*x2\n",
      "INPUT PREDICTED REAL\n",
      "[1, 0] \t 0 \t 1\n",
      "[1, 1] \t 1 \t 0\n",
      "[0, 1] \t 0 \t 1\n",
      "[0, 0] \t 0 \t 1\n",
      "ACCURACY: 0.0 %\n"
     ]
    },
    {
     "name": "stderr",
     "output_type": "stream",
     "text": [
      "\n"
     ]
    },
    {
     "data": {
      "text/plain": [
       "0.0"
      ]
     },
     "execution_count": 11,
     "metadata": {},
     "output_type": "execute_result"
    }
   ],
   "source": [
    "from tqdm import tqdm\n",
    "from scipy.spatial import distance\n",
    "def step(input):\n",
    "    return 0 if input < 0.5 else 1\n",
    "def neural_func(x, weights):\n",
    "    return np.dot(x, weights)\n",
    "def train(X, y, learning_rate, epochs = 30):\n",
    "    weights = [1,1]\n",
    "    for _ in tqdm(range(epochs)):\n",
    "        for x in range(4):\n",
    "            pred = step(neural_func(X[x], weights))\n",
    "            #Hyperplance is orthogonal to weights vector\n",
    "            #Optimal hyperplane exists where 0.5=w1x1+w2x2 as this will be a 50/50 split due to the step function changing from 0 to 1 at 0.5!. So subtracting the weight gradient from weights when w1x1+w2x2 >= 0.5\n",
    "            # will force the hyperplane to converge to 0.5\n",
    "            if neural_func(X[x], weights) >= 0.5:\n",
    "                #Weight gradients are d/dw1(w1x1+w2x2+b)=x1 and d/dw2(w1x1+w2x2+b)=x2\n",
    "                print(learning_rate*X[x][0], X[x])\n",
    "                weights[0] -= learning_rate*X[x][0]\n",
    "                weights[1] -= learning_rate*X[x][1] \n",
    "    return weights\n",
    "def test(test_x, test_y, optimal_weights):\n",
    "    accuracies = []\n",
    "\n",
    "    print(f\"RESULTING EQUATION: y={optimal_weights[0]}*x1+{optimal_weights[1]}*x2\")\n",
    "    print(\"INPUT\", \"PREDICTED\", \"REAL\")\n",
    "    for x in range(len(test_x)):\n",
    "        # print(neural_func(, optimal_weights))\n",
    "        print(test_x[x],\"\\t\",step(neural_func(test_x[x], optimal_weights)), \"\\t\",test_y[x])\n",
    "        if step(neural_func(test_x[x], optimal_weights))==test_y[x]:\n",
    "            accuracies.append(1)\n",
    "        else:\n",
    "            accuracies.append(0)\n",
    "    print(\"ACCURACY:\", 100*sum(accuracies)/len(accuracies), \"%\")\n",
    "    return 100*sum(accuracies)/len(accuracies)\n",
    "test([[1,0], [1,1], [0,1], [0,0]], [0,1,0,0], train(X, y, 0.01, 25))"
   ]
  },
  {
   "attachments": {},
   "cell_type": "markdown",
   "metadata": {},
   "source": [
    "## OR GATE"
   ]
  },
  {
   "attachments": {},
   "cell_type": "markdown",
   "metadata": {},
   "source": [
    "Now we can use our method from the AND gate section"
   ]
  },
  {
   "cell_type": "code",
   "execution_count": 8,
   "metadata": {},
   "outputs": [
    {
     "name": "stderr",
     "output_type": "stream",
     "text": [
      "100%|██████████| 3/3 [00:00<00:00, 6739.64it/s]"
     ]
    },
    {
     "name": "stdout",
     "output_type": "stream",
     "text": [
      "0.001 [1, 1]\n",
      "0.0 [0, 1]\n",
      "0.001 [1, 0]\n",
      "0.001 [1, 1]\n",
      "0.0 [0, 1]\n",
      "0.001 [1, 0]\n",
      "0.001 [1, 1]\n",
      "0.0 [0, 1]\n",
      "0.001 [1, 0]\n",
      "RESULTING EQUATION: y=0.994*x1+0.994*x2\n",
      "INPUT PREDICTED REAL\n",
      "[1, 1] \t 1 \t 1\n",
      "[0, 1] \t 1 \t 1\n",
      "[1, 0] \t 1 \t 1\n",
      "[0, 0] \t 0 \t 0\n",
      "ACCURACY: 100.0 %\n"
     ]
    },
    {
     "name": "stderr",
     "output_type": "stream",
     "text": [
      "\n"
     ]
    },
    {
     "data": {
      "text/plain": [
       "100.0"
      ]
     },
     "execution_count": 8,
     "metadata": {},
     "output_type": "execute_result"
    }
   ],
   "source": [
    "X = [[1,1],[0,1],[1,0],[0,0]]\n",
    "y = [1,1,1,0]\n",
    "test(X, y, train(X, y, 0.001, 3))"
   ]
  },
  {
   "cell_type": "code",
   "execution_count": 10,
   "metadata": {},
   "outputs": [
    {
     "data": {
      "image/png": "[encoded data removed]",
      "text/plain": [
       "<Figure size 432x288 with 1 Axes>"
      ]
     },
     "metadata": {
      "needs_background": "light"
     },
     "output_type": "display_data"
    }
   ],
   "source": [
    "import matplotlib.pyplot as plt\n",
    "\n",
    "x1 = [1,1,0,0] \n",
    "x2 = [1,0,1,0]\n",
    "plt.scatter(x1, x2)\n",
    "plt.scatter([x1[1]],[x2[1]])\n",
    "plt.scatter([x1[2]],[x2[2]])\n",
    "plt.title(\"INPUTS X1, X2\")\n",
    "plt.show()"
   ]
  },
  {
   "cell_type": "code",
   "execution_count": null,
   "metadata": {},
   "outputs": [],
   "source": []
  }
 ],
 "metadata": {
  "kernelspec": {
   "display_name": "Python 3",
   "language": "python",
   "name": "python3"
  },
  "language_info": {
   "codemirror_mode": {
    "name": "ipython",
    "version": 3
   },
   "file_extension": ".py",
   "mimetype": "text/x-python",
   "name": "python",
   "nbconvert_exporter": "python",
   "pygments_lexer": "ipython3",
   "version": "3.8.10 (default, Nov 14 2022, 12:59:47) \n[GCC 9.4.0]"
  },
  "orig_nbformat": 4,
  "vscode": {
   "interpreter": {
    "hash": "916dbcbb3f70747c44a77c7bcd40155683ae19c65e1c03b4aa3499c5328201f1"
   }
  }
 },
 "nbformat": 4,
 "nbformat_minor": 2
}
