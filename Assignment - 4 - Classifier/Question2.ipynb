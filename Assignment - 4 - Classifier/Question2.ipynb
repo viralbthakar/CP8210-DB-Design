{
 "cells": [
  {
   "attachments": {},
   "cell_type": "markdown",
   "metadata": {},
   "source": [
    "# 2. SVM"
   ]
  },
  {
   "attachments": {},
   "cell_type": "markdown",
   "metadata": {},
   "source": [
    "### Question 1) IN SVM what is the meaning of margin? Which are the equations of the two margin hyperplans H+ and H- ?"
   ]
  },
  {
   "attachments": {},
   "cell_type": "markdown",
   "metadata": {},
   "source": [
    "First, as seen in the perceptron algorithm, it finds a hyperplane which seperates the two classes in the AND/OR gate datasets. However, there are infinite hyperplanes which could seperate the data. The goal of a support vector machine is to find which of these hyperplanes is optimal."
   ]
  },
  {
   "attachments": {},
   "cell_type": "markdown",
   "metadata": {},
   "source": [
    "But what does optimal mean? Well it makes sense that with respect to classifying data into two categories, the optimal placement for a line which seperates the categories would maximize the minimum distance of the closest point to said line in each class where distance is |<x,w>+b|/||w||."
   ]
  },
  {
   "attachments": {},
   "cell_type": "markdown",
   "metadata": {},
   "source": [
    "Assuming that the two hyperplanes with support vectors are H+, and H-, and the two categories of data are to be seen when <w,x>+b >=1, <=-1, H+ is defined by wx-b=1, and H- is defined wx-b=-1<br><br>\n",
    "It is then clear to note that the distance between a support vector hyperplane and the maximum margin hyperplane is 1/||w||, therefore the distance between the two support vector hyperplanes H+, and H- is 2/||w||"
   ]
  },
  {
   "attachments": {},
   "cell_type": "markdown",
   "metadata": {},
   "source": [
    "The *margin* is the distance between the hyperplane and each category's closest data point"
   ]
  },
  {
   "attachments": {},
   "cell_type": "markdown",
   "metadata": {},
   "source": [
    "### 2) Consider the three linearly separable two-dimensional input vectors in the following figure. Find the linear SVM that optimally separates the classes by maximizing the margin."
   ]
  },
  {
   "cell_type": "code",
   "execution_count": null,
   "metadata": {},
   "outputs": [],
   "source": []
  }
 ],
 "metadata": {
  "kernelspec": {
   "display_name": "Python 3",
   "language": "python",
   "name": "python3"
  },
  "language_info": {
   "codemirror_mode": {
    "name": "ipython",
    "version": 3
   },
   "file_extension": ".py",
   "mimetype": "text/x-python",
   "name": "python",
   "nbconvert_exporter": "python",
   "pygments_lexer": "ipython3",
   "version": "3.8.10 (default, Nov 14 2022, 12:59:47) \n[GCC 9.4.0]"
  },
  "orig_nbformat": 4,
  "vscode": {
   "interpreter": {
    "hash": "916dbcbb3f70747c44a77c7bcd40155683ae19c65e1c03b4aa3499c5328201f1"
   }
  }
 },
 "nbformat": 4,
 "nbformat_minor": 2
}
